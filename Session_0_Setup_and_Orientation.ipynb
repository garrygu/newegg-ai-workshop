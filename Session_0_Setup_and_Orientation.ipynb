{
 "cells": [
  {
   "cell_type": "markdown",
   "id": "a20877ce",
   "metadata": {},
   "source": [
    "# 🧭 Session 0 — Setup & Orientation\n",
    "Welcome to **Newegg AI Workshop**! 🎉\n",
    "\n",
    "In this first session, you’ll learn how to:\n",
    "1. Run code inside Jupyter Notebook 💻  \n",
    "2. Understand what AI really means 🤖  \n",
    "3. Get ready for the next sessions (Image Generation, Classifier, Chatbot, and Game) 🚀\n",
    "---"
   ]
  },
  {
   "cell_type": "markdown",
   "id": "c6e92b5b",
   "metadata": {},
   "source": [
    "# 💡 Step 1: What is Jupyter Notebook?\n",
    "\n",
    "🟢 **Notebook = Interactive coding + learning space**.\n",
    "- Each gray box like this one is a **code cell** (you can run it!).\n",
    "- Each white box is **Markdown text** (for notes & explanations).\n",
    "\n",
    "Try pressing `Shift + Enter` inside the next cell!"
   ]
  },
  {
   "cell_type": "code",
   "execution_count": null,
   "id": "f7ed8e94",
   "metadata": {},
   "outputs": [],
   "source": [
    "print('Hello AI World! 🧠')"
   ]
  },
  {
   "cell_type": "markdown",
   "id": "2784c4b3",
   "metadata": {},
   "source": [
    "✅ If you see `Hello AI World! 🧠`, congratulations — your environment works!\n",
    "\n",
    "✅ Try it yourself:\n",
    "Change the text inside the quotes and run it again!\n",
    "\n",
    "---"
   ]
  },
  {
   "cell_type": "markdown",
   "id": "146c58ef",
   "metadata": {},
   "source": [
    "# 🧠 Step 2: AI Concepts 101 — What Is AI?\n",
    "\n",
    "Artificial Intelligence is how computers **learn from data** and make **predictions or decisions**.\n",
    "\n",
    "Let's break it down 👇"
   ]
  },
  {
   "cell_type": "markdown",
   "id": "f5e25a57",
   "metadata": {},
   "source": [
    "### 📊 How AI Learns\n",
    "\n",
    "```\n",
    "DATA  ➜  TRAINING  ➜  MODEL  ➜  PREDICTION\n",
    "\n",
    "Example:\n",
    "🐶 + 🐱 Images  ➜  Training  ➜  🧠 Classifier  ➜  'This is a dog!'\n",
    "```\n",
    "\n",
    "🗂️ **Dataset**: a collection of examples (like 1000 pictures of cats & dogs).\n",
    "\n",
    "🧮 **Model**: the AI brain that learns from the dataset.\n",
    "\n",
    "🏋️ **Training**: teaching the model patterns from data.\n",
    "\n",
    "🔮 **Inference**: using the trained model to make predictions on new data."
   ]
  },
  {
   "cell_type": "markdown",
   "id": "63152b19",
   "metadata": {},
   "source": [
    "### ⚙️ Visual Overview\n",
    "\n",
    "Below is a simple conceptual diagram (no coding yet!):\n",
    "\n",
    "```\n",
    "        +--------------------+\n",
    "        |    Training Data   |   (e.g. many cat photos)\n",
    "        +---------+----------+\n",
    "                  |\n",
    "                  v\n",
    "        +--------------------+\n",
    "        |   AI Learns Pattern|\n",
    "        |   'Cats have ears' |\n",
    "        +---------+----------+\n",
    "                  |\n",
    "                  v\n",
    "        +--------------------+\n",
    "        |     Model Ready!   |   (Now it can predict new cats)\n",
    "        +--------------------+\n",
    "```"
   ]
  },
  {
   "cell_type": "markdown",
   "id": "bd42e73b",
   "metadata": {},
   "source": [
    "### 🧩 Training vs Inference\n",
    "\n",
    "| Stage | Description | Example |\n",
    "|:--|:--|:--|\n",
    "| **Training** | Model learns from known data | Feed 10,000 cat & dog images |\n",
    "| **Inference** | Model predicts new data | Show a new image → \"That’s a cat!\" |\n",
    "\n",
    "💬 Think of training like **studying for a test**, and inference like **taking the test**."
   ]
  },
  {
   "cell_type": "markdown",
   "id": "daba1d56",
   "metadata": {},
   "source": [
    "## 🧠 AI in Everyday Life\n",
    "\n",
    "You’ve already used AI today — maybe without knowing it!\n",
    "\n",
    "Examples:\n",
    "- 📱 Face unlock on your phone\n",
    "- 🛒 Product recommendations online\n",
    "- 🎧 Music suggestions (Spotify, YouTube)\n",
    "- 📷 Auto image enhancement on your camera\n",
    "\n",
    "👉 **AI is not magic — it’s math + data + creativity!**\n",
    "\n",
    "---"
   ]
  },
  {
   "cell_type": "markdown",
   "id": "d479a3e6",
   "metadata": {},
   "source": [
    "# 🐍 Step 3: Python Basics"
   ]
  },
  {
   "cell_type": "markdown",
   "id": "ea14a523",
   "metadata": {},
   "source": [
    "## 1️⃣ Check Your Python Setup\n",
    "\n",
    "Let’s verify your Python version and libraries."
   ]
  },
  {
   "cell_type": "code",
   "execution_count": null,
   "id": "447eea62",
   "metadata": {},
   "outputs": [],
   "source": [
    "# Check Python version and platform\n",
    "import sys, platform\n",
    "print('✅ Python version:', sys.version)\n",
    "print('✅ Platform:', platform.system())\n",
    "\n",
    "# Additional system info\n",
    "print('✅ Python executable:', sys.executable)"
   ]
  },
  {
   "cell_type": "markdown",
   "id": "e06edf81",
   "metadata": {},
   "source": [
    "If you see your Python version and OS printed above — your system is ready! 🎉"
   ]
  },
  {
   "cell_type": "markdown",
   "id": "8ed59f85",
   "metadata": {},
   "source": [
    "## 2️⃣ Variables and Simple Math\n",
    "Python can store and calculate numbers easily."
   ]
  },
  {
   "cell_type": "code",
   "execution_count": null,
   "id": "1a40dec4",
   "metadata": {},
   "outputs": [],
   "source": [
    "# Variables and basic math operations\n",
    "a = 5  # First number\n",
    "b = 3  # Second number\n",
    "result = a + b  # Calculate sum\n",
    "print('The sum is:', result)\n",
    "\n",
    "# Try different operations\n",
    "print('Multiplication:', a * b)\n",
    "print('Division:', a / b)\n",
    "print('Power:', a ** b)"
   ]
  },
  {
   "cell_type": "markdown",
   "id": "f5782f00",
   "metadata": {},
   "source": [
    "🧠 **What happened?**\n",
    "- We created two **variables** (`a`, `b`).\n",
    "- We added them together.\n",
    "- We printed the result."
   ]
  },
  {
   "cell_type": "markdown",
   "id": "5d7aa443",
   "metadata": {},
   "source": [
    "## 3️⃣ Lists and Loops\n",
    "Lists hold multiple items, and loops repeat actions — a concept used heavily in AI training."
   ]
  },
  {
   "cell_type": "code",
   "execution_count": null,
   "id": "9ef575ef",
   "metadata": {},
   "outputs": [],
   "source": [
    "# Lists and loops - fundamental for AI data processing\n",
    "animals = [\"cat\", \"dog\", \"parrot\"]  # List of animals\n",
    "for animal in animals:  # Loop through each animal\n",
    "    print(\"I like\", animal)\n",
    "\n",
    "# Count the animals\n",
    "print(f\"\\nTotal animals: {len(animals)}\")\n",
    "\n",
    "# Add more animals\n",
    "animals.append(\"fish\")\n",
    "print(\"After adding fish:\", animals)"
   ]
  },
  {
   "cell_type": "markdown",
   "id": "2cd9c9ce",
   "metadata": {},
   "source": [
    "💡 **You’ll see loops again later when AI looks at many images during training!**"
   ]
  },
  {
   "cell_type": "markdown",
   "id": "e72abb1a",
   "metadata": {},
   "source": [
    "## 4️⃣ Ask for user input"
   ]
  },
  {
   "cell_type": "code",
   "execution_count": null,
   "id": "f2a05293",
   "metadata": {},
   "outputs": [],
   "source": [
    "# Get user's name\n",
    "name = input(\"Enter your name: \")\n",
    "print(f\"Hi {name}! Welcome to Newegg AI Workshop! 🤖\")"
   ]
  },
  {
   "cell_type": "markdown",
   "id": "f446d911",
   "metadata": {},
   "source": [
    "## 5️⃣ Conditional logic"
   ]
  },
  {
   "cell_type": "code",
   "execution_count": null,
   "id": "ce3d3b1c",
   "metadata": {},
   "outputs": [],
   "source": [
    "# Conditional logic\n",
    "number = int(input(\"Enter a number between 1–10: \"))\n",
    "if number > 5:\n",
    "    print(\"That's a big number! 🌟\")\n",
    "else:\n",
    "    print(\"Nice choice! 👍\")"
   ]
  },
  {
   "cell_type": "markdown",
   "id": "12f3f4ba",
   "metadata": {},
   "source": [
    "---"
   ]
  },
  {
   "cell_type": "markdown",
   "id": "dde5bae1",
   "metadata": {},
   "source": [
    "# 🧮 Step 4: Check Your GPU (Why GPUs Matter for AI)\n",
    "\n",
    "Some AI models run **much faster** on a **GPU (Graphics Processing Unit)** — the same hardware used for gaming!\n",
    "\n",
    "## 🎮 What is a GPU?\n",
    "\n",
    "**GPU = Graphics Processing Unit**\n",
    "- Originally designed for **gaming** and **3D graphics**\n",
    "- Has **thousands of small processors** working in parallel\n",
    "- **CPU** = 1-16 powerful processors (like a few race cars)\n",
    "- **GPU** = 1000+ smaller processors (like a fleet of bicycles)\n",
    "\n",
    "## 🧠 Why GPUs are Perfect for AI\n",
    "\n",
    "### **Parallel Processing Power**\n",
    "```\n",
    "CPU: 1 task → 1 processor → Sequential processing\n",
    "GPU: 1 task → 1000+ processors → Parallel processing\n",
    "```\n",
    "\n",
    "**AI Training Example:**\n",
    "- **CPU**: Look at 1 image at a time → Very slow\n",
    "- **GPU**: Look at 100+ images simultaneously → Much faster!\n",
    "\n",
    "### **Matrix Math Magic**\n",
    "AI models do **lots of matrix multiplication**:\n",
    "- **CPU**: Good at complex, sequential tasks\n",
    "- **GPU**: Excellent at simple, repetitive math (like matrix operations)\n",
    "\n",
    "**Real Example:**\n",
    "- Training an image classifier on **10,000 images**\n",
    "- **CPU**: Might take 10+ hours\n",
    "- **GPU**: Might take 30 minutes!\n",
    "\n",
    "## 🚀 GPU vs CPU for AI Tasks\n",
    "\n",
    "| Task | CPU Time | GPU Time | Speedup |\n",
    "|:--|:--:|:--:|:--:|\n",
    "| **Image Generation** | 5 minutes | 30 seconds | 10x faster |\n",
    "| **Model Training** | 8 hours | 1 hour | 8x faster |\n",
    "| **Image Classification** | 2 minutes | 10 seconds | 12x faster |\n",
    "| **Chatbot Processing** | 30 seconds | 3 seconds | 10x faster |\n",
    "\n",
    "## 💡 What if You Don't Have a GPU?\n",
    "\n",
    "**Don't worry!** We have solutions:\n",
    "- **Cloud Computing**: Use Google Colab, AWS, or other cloud GPUs\n",
    "- **Pre-trained Models**: Use models already trained by others\n",
    "- **Smaller Models**: Use lightweight versions that work on CPU\n",
    "- **Patience**: CPU works fine, just takes longer\n",
    "\n",
    "Let's check what you have available!\n"
   ]
  },
  {
   "cell_type": "markdown",
   "id": "59546e9b",
   "metadata": {},
   "source": [
    "# 🧮 Step 4: Check Your GPU (Optional)\n",
    "\n",
    "Some AI models run faster on a **GPU (Graphics Processing Unit)** — the same hardware used for gaming!\n",
    "\n",
    "Let’s see if you have one available."
   ]
  },
  {
   "cell_type": "code",
   "execution_count": null,
   "id": "b59d4443",
   "metadata": {},
   "outputs": [],
   "source": [
    "# Check PyTorch installation and GPU availability\n",
    "try:\n",
    "    import torch\n",
    "    print('✅ PyTorch installed:', torch.__version__)\n",
    "    print('💻 GPU Available:', torch.cuda.is_available())\n",
    "    \n",
    "    if torch.cuda.is_available():\n",
    "        print(f'🎮 GPU Name: {torch.cuda.get_device_name(0)}')\n",
    "        print(f'💾 GPU Memory: {torch.cuda.get_device_properties(0).total_memory / 1e9:.1f} GB')\n",
    "    else:\n",
    "        print('💡 No GPU detected - we\\'ll use CPU or cloud resources')\n",
    "        \n",
    "except ImportError:\n",
    "    print('❌ PyTorch not installed - we\\'ll install it in Session 1!')"
   ]
  },
  {
   "cell_type": "markdown",
   "id": "5dbfcf7d",
   "metadata": {},
   "source": [
    "If GPU = `True`, great! You can run image and model sessions faster.\n",
    "\n",
    "If GPU = `False`, don’t worry — we’ll use cloud or pre-trained models later.\n",
    "\n",
    "---"
   ]
  },
  {
   "cell_type": "markdown",
   "id": "969f185a",
   "metadata": {},
   "source": [
    "# 🧩 Step 5: Your Turn!\n",
    "\n",
    "Let’s make your first AI-like mini program — a *smart greeter* 👋\n",
    "\n",
    "Try editing the message inside quotes and re-run it!"
   ]
  },
  {
   "cell_type": "code",
   "execution_count": null,
   "id": "7cc909df",
   "metadata": {},
   "outputs": [],
   "source": [
    "# Smart greeter\n",
    "name = input('Enter your name: ')\n",
    "print(f'Hello, {name}! 🤖 Welcome to Newegg AI Workshop!')"
   ]
  },
  {
   "cell_type": "markdown",
   "id": "900f7480",
   "metadata": {},
   "source": [
    "---\n",
    "# 🎯 End-of-Session Quiz\n",
    "Welcome! Let's test what you learned about AI and Python.\n",
    "\n",
    "### Quiz Question 1"
   ]
  },
  {
   "cell_type": "code",
   "execution_count": null,
   "id": "b17d655f",
   "metadata": {},
   "outputs": [],
   "source": [
    "score = 0\n",
    "\n",
    "print(\"\\nQ1: What does 'training' mean in AI?\")\n",
    "print(\"a) Teaching the model using data\")\n",
    "print(\"b) Running the model on new data\")\n",
    "print(\"c) Writing code manually\")\n",
    "answer = input(\"Your answer: \")\n",
    "\n",
    "if answer.lower() == 'a':\n",
    "    print(\"✅ Correct! Training is teaching the model using data.\")\n",
    "    score += 1\n",
    "else:\n",
    "    print(\"❌ It's actually a) Teaching the model using data.\")"
   ]
  },
  {
   "cell_type": "markdown",
   "id": "618c1bce",
   "metadata": {},
   "source": [
    "### Quiz Question 2"
   ]
  },
  {
   "cell_type": "code",
   "execution_count": null,
   "id": "f88b2158",
   "metadata": {},
   "outputs": [],
   "source": [
    "print(\"\\nQ2: Which Python command displays text on the screen?\")\n",
    "print(\"a) echo\")\n",
    "print(\"b) print()\")\n",
    "print(\"c) say()\")\n",
    "answer = input(\"Your answer: \")\n",
    "\n",
    "if answer.lower() == 'b':\n",
    "    print(\"✅ Correct! print() is the Python command to display text.\")\n",
    "    score += 1\n",
    "else:\n",
    "    print(\"❌ The correct answer is b) print().\")"
   ]
  },
  {
   "cell_type": "markdown",
   "id": "e02b3b41",
   "metadata": {},
   "source": [
    "### Quiz Question 3"
   ]
  },
  {
   "cell_type": "code",
   "execution_count": null,
   "id": "0477bf7d",
   "metadata": {},
   "outputs": [],
   "source": [
    "print(\"\\nQ3: What’s the difference between a dataset and a model?\")\n",
    "print(\"a) Dataset = examples; Model = learns from them\")\n",
    "print(\"b) Model = examples; Dataset = predictions\")\n",
    "print(\"c) They are the same\")\n",
    "answer = input(\"Your answer: \")\n",
    "\n",
    "if answer.lower() == 'a':\n",
    "    print(\"✅ Correct!\")\n",
    "    score += 1\n",
    "else:\n",
    "    print(\"❌ It's a) Dataset = examples; Model = learns from them.\")\n"
   ]
  },
  {
   "cell_type": "markdown",
   "id": "a58abb70",
   "metadata": {},
   "source": [
    "### Final score"
   ]
  },
  {
   "cell_type": "code",
   "execution_count": null,
   "id": "4e52531c",
   "metadata": {},
   "outputs": [],
   "source": [
    "print(f\"\\n🎉 You scored {score}/3! Great job!\")"
   ]
  },
  {
   "cell_type": "markdown",
   "id": "429a5b86",
   "metadata": {},
   "source": [
    "---\n",
    "# 🏆 Challenge Zone (Optional)\n",
    "\n",
    "💪 Try these small challenges before the next session:\n",
    "\n",
    "### 1. Personalize Your Greeting: add your favorite emoji or color to the print message."
   ]
  },
  {
   "cell_type": "code",
   "execution_count": null,
   "id": "4cf49241",
   "metadata": {},
   "outputs": [],
   "source": [
    "name = input(\"Enter your name: \")\n",
    "print(f\"🌟 Hello, {name}! Welcome to AI Workshop! 🚀\")\n",
    "print(\"🎨 I love coding in Python!\")"
   ]
  },
  {
   "cell_type": "markdown",
   "id": "fc565606",
   "metadata": {},
   "source": [
    "### 2. Create a simple math quiz (ask for 2 numbers and print their sum)."
   ]
  },
  {
   "cell_type": "code",
   "execution_count": null,
   "id": "0f55984b",
   "metadata": {},
   "outputs": [],
   "source": [
    "print(\"Let's do some math! 🧮\")\n",
    "num1 = int(input(\"Enter first number: \"))\n",
    "num2 = int(input(\"Enter second number: \"))\n",
    "\n",
    "print(f\"Sum: {num1 + num2}\")\n",
    "print(f\"Difference: {num1 - num2}\")\n",
    "print(f\"Product: {num1 * num2}\")\n",
    "print(f\"Average: {(num1 + num2) / 2}\")"
   ]
  },
  {
   "cell_type": "markdown",
   "id": "fccab39e",
   "metadata": {},
   "source": [
    "### 3. Change the greeting based on time of day (morning, afternoon, evening)."
   ]
  },
  {
   "cell_type": "code",
   "execution_count": null,
   "id": "936e07d7",
   "metadata": {},
   "outputs": [],
   "source": [
    "import datetime\n",
    "\n",
    "name = input(\"Enter your name: \")\n",
    "hour = datetime.datetime.now().hour\n",
    "\n",
    "if hour < 12:\n",
    "    print(f\"Good morning, {name}! ☀️ Have a great day!\")\n",
    "elif hour < 18:\n",
    "    print(f\"Good afternoon, {name}! 🌤️ Hope you're having a good day!\")\n",
    "else:\n",
    "    print(f\"Good evening, {name}! 🌙 Have a wonderful night!\")"
   ]
  },
  {
   "cell_type": "markdown",
   "id": "b350b5c0",
   "metadata": {},
   "source": [
    "---\n",
    "# 🔍 Sneak Peek: What’s Coming Next!\n",
    "Coming up in future sessions:\n",
    "- 🎨 Session 1: Create your own AI images (Stable Diffusion)\n",
    "- 🧠 Session 2: Train an image classifier (CIFAR-10)\n",
    "- 💬 Session 3: Build a simple chatbot with emotions\n",
    "- 🎮 Session 4: Combine all to make an AI guessing game!"
   ]
  },
  {
   "cell_type": "markdown",
   "id": "19796196",
   "metadata": {},
   "source": [
    "---\n",
    "\n",
    "# 🎯 Wrap-Up\n",
    "\n",
    "**You learned:**\n",
    "- How to use Jupyter Notebook\n",
    "- The basic idea of AI: Data ➜ Model ➜ Prediction\n",
    "- The difference between Training and Inference\n",
    "- Python basics: print, variables, conditionals, etc.\n",
    "\n",
    "🎉 **Congratulations!** You’re ready for Session 1: *Image Generation!*\n",
    "\n"
   ]
  }
 ],
 "metadata": {
  "kernelspec": {
   "display_name": "Python 3",
   "language": "python",
   "name": "python3"
  },
  "language_info": {
   "name": "python"
  }
 },
 "nbformat": 4,
 "nbformat_minor": 5
}
