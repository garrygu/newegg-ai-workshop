{
 "cells": [
  {
   "cell_type": "markdown",
   "id": "b0e34b45",
   "metadata": {},
   "source": [
    "# 🧩 Session 0 – Setup & Orientation\n",
    "Welcome to **Newegg’s AI Workshop!** 🎉\n",
    "\n",
    "In this session, you’ll learn the basics of Python and Jupyter Notebook — the tools we’ll use to explore AI together.\n",
    "\n",
    "---\n",
    "### What you’ll learn\n",
    "- How to run Python code in Jupyter Notebook\n",
    "- What variables, lists, and loops are\n",
    "- How to print and display results\n",
    "- A sneak peek at how AI ‘thinks’\n",
    "---"
   ]
  },
  {
   "cell_type": "markdown",
   "id": "8db073a0",
   "metadata": {},
   "source": [
    "## 1️⃣ Getting Started with Jupyter\n",
    "Each gray box is called a **cell**. You can click on it and press **Shift + Enter** (or the ▶️ Run button) to execute it.\n",
    "\n",
    "Try running this simple program:"
   ]
  },
  {
   "cell_type": "code",
   "execution_count": null,
   "id": "8a5e7ecb",
   "metadata": {},
   "outputs": [],
   "source": [
    "print(\"Hello, AI World!\")"
   ]
  },
  {
   "cell_type": "markdown",
   "id": "f1dbd69e",
   "metadata": {},
   "source": [
    "### ✅ Try it yourself:\n",
    "Change the text inside the quotes and run it again!"
   ]
  },
  {
   "cell_type": "markdown",
   "id": "cb3683d2",
   "metadata": {},
   "source": [
    "## 2️⃣ Variables and Simple Math\n",
    "Python can store and calculate numbers easily."
   ]
  },
  {
   "cell_type": "code",
   "execution_count": null,
   "id": "f4d61b84",
   "metadata": {},
   "outputs": [],
   "source": [
    "a = 5\n",
    "b = 3\n",
    "result = a + b\n",
    "print('The sum is:', result)"
   ]
  },
  {
   "cell_type": "markdown",
   "id": "023050bf",
   "metadata": {},
   "source": [
    "🧠 **What happened?**\n",
    "- We created two **variables** (`a`, `b`).\n",
    "- We added them together.\n",
    "- We printed the result."
   ]
  },
  {
   "cell_type": "markdown",
   "id": "cfd8fda2",
   "metadata": {},
   "source": [
    "## 3️⃣ Lists and Loops\n",
    "Lists hold multiple items, and loops repeat actions — a concept used heavily in AI training."
   ]
  },
  {
   "cell_type": "code",
   "execution_count": null,
   "id": "5fd06009",
   "metadata": {},
   "outputs": [],
   "source": [
    "animals = [\"cat\", \"dog\", \"parrot\"]\n",
    "for animal in animals:\n",
    "    print(\"I like\", animal)"
   ]
  },
  {
   "cell_type": "markdown",
   "id": "07d1ebd6",
   "metadata": {},
   "source": [
    "💡 **You’ll see loops again later when AI looks at many images during training!**"
   ]
  },
  {
   "cell_type": "markdown",
   "id": "8b1208e3",
   "metadata": {},
   "source": [
    "## 4️⃣ Introduction to AI Concepts\n",
    "AI learns from examples just like humans do.\n",
    "\n",
    "Here’s a simple illustration:"
   ]
  },
  {
   "cell_type": "code",
   "execution_count": null,
   "id": "e1427be9",
   "metadata": {},
   "outputs": [],
   "source": [
    "examples = {\"apple\": \"fruit\", \"carrot\": \"vegetable\", \"banana\": \"fruit\"}\n",
    "for item, label in examples.items():\n",
    "    print(item, \"→\", label)"
   ]
  },
  {
   "cell_type": "markdown",
   "id": "b2333b9e",
   "metadata": {},
   "source": [
    "🧠 In future sessions, we’ll train AI to do this automatically using datasets!"
   ]
  },
  {
   "cell_type": "markdown",
   "id": "25ac503e",
   "metadata": {},
   "source": [
    "## 5️⃣ Fun Activity: Random Compliments\n",
    "Let’s make Python say something nice!"
   ]
  },
  {
   "cell_type": "code",
   "execution_count": null,
   "id": "ed812ad2",
   "metadata": {},
   "outputs": [],
   "source": [
    "import random\n",
    "\n",
    "compliments = [\"You’re awesome!\", \"Great job!\", \"Keep going!\", \"AI loves your curiosity!\"]\n",
    "print(random.choice(compliments))"
   ]
  },
  {
   "cell_type": "markdown",
   "id": "73f28c92",
   "metadata": {},
   "source": [
    "## 6️⃣ Sneak Peek: Generating an AI Image\n",
    "You don’t need to run this now, but soon we’ll use similar code to make AI create images from text!"
   ]
  },
  {
   "cell_type": "code",
   "execution_count": null,
   "id": "7265acff",
   "metadata": {},
   "outputs": [],
   "source": [
    "# Example (pseudo-code)\n",
    "# from diffusers import StableDiffusionPipeline\n",
    "# pipe = StableDiffusionPipeline.from_pretrained('runwayml/stable-diffusion-v1-5')\n",
    "# image = pipe('a cute robot painting a sunset').images[0]\n",
    "# image"
   ]
  },
  {
   "cell_type": "markdown",
   "id": "09caaaf8",
   "metadata": {},
   "source": [
    "✨ That’s the magic you’ll experience in the next session!"
   ]
  },
  {
   "cell_type": "markdown",
   "id": "f805af20",
   "metadata": {},
   "source": [
    "## 7️⃣ End-of-Session Quiz\n",
    "Answer these questions together as a class:\n",
    "1. How do you run a cell in Jupyter Notebook?\n",
    "2. What does the `print()` command do?\n",
    "3. What’s a variable?\n",
    "4. What will we use AI for in this workshop?\n",
    "\n",
    "---\n",
    "🎉 **Congratulations!** You’re ready for Session 1: *Image Generation!*"
   ]
  }
 ],
 "metadata": {},
 "nbformat": 4,
 "nbformat_minor": 5
}
