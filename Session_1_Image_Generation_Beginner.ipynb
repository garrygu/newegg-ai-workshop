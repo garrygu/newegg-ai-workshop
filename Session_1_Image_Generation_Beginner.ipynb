{
 "cells": [
  {
   "cell_type": "markdown",
   "id": "951ee7f4",
   "metadata": {},
   "source": [
    "# 🎨 Session 1 – Create with AI: Image Generation\n",
    "Welcome to your first hands-on AI session! 🚀\n",
    "\n",
    "Today, you’ll experience how AI can **create images from words** — a process called *text-to-image generation*. You’ll start by seeing how AI interprets simple prompts and then design your own creative images.\n",
    "\n",
    "---"
   ]
  },
  {
   "cell_type": "markdown",
   "id": "bf828e00",
   "metadata": {},
   "source": [
    "## 🧠 What You’ll Learn\n",
    "- How AI turns text into images\n",
    "- How to write creative prompts\n",
    "- How to save your generated images for later use (like your AI game!)\n",
    "---"
   ]
  },
  {
   "cell_type": "markdown",
   "id": "8d65b96d",
   "metadata": {},
   "source": [
    "## 👀 Step 1: See What AI Can Do\n",
    "Before setting up the tools, let’s look at an example of an AI-generated image. Run the cell below!"
   ]
  },
  {
   "cell_type": "code",
   "execution_count": null,
   "id": "74c41a32",
   "metadata": {},
   "outputs": [],
   "source": [
    "from PIL import Image\n",
    "import requests\n",
    "from io import BytesIO\n",
    "\n",
    "url = 'https://huggingface.co/datasets/hf-internal-testing/diffusers-images/resolve/main/text2img_samples/dog_cat.png'\n",
    "Image.open(BytesIO(requests.get(url).content))"
   ]
  },
  {
   "cell_type": "markdown",
   "id": "6c342234",
   "metadata": {},
   "source": [
    "## ⚙️ Step 2: Setup the Tools\n",
    "We’ll install a few AI libraries that help Python create images from text. This step might take a few minutes, but don’t worry — it’s automatic."
   ]
  },
  {
   "cell_type": "code",
   "execution_count": null,
   "id": "0b69d30d",
   "metadata": {},
   "outputs": [],
   "source": [
    "!pip install --quiet diffusers transformers accelerate safetensors"
   ]
  },
  {
   "cell_type": "markdown",
   "id": "c2ee02e1",
   "metadata": {},
   "source": [
    "## 🧩 Step 3: Load the Libraries and Check the GPU\n",
    "Now, we’ll import everything and check if your system (or cloud environment) has a GPU available."
   ]
  },
  {
   "cell_type": "code",
   "execution_count": null,
   "id": "1bab8e93",
   "metadata": {},
   "outputs": [],
   "source": [
    "import torch, os\n",
    "from diffusers import AutoPipelineForText2Image\n",
    "print('✅ Setup complete. GPU available:', torch.cuda.is_available())"
   ]
  },
  {
   "cell_type": "markdown",
   "id": "65acca58",
   "metadata": {},
   "source": [
    "## 🧠 Step 4: Load the AI Model\n",
    "We’ll use a smaller, faster version of *Stable Diffusion* called **SD Turbo**. It’s designed for quick image generation, perfect for workshops!"
   ]
  },
  {
   "cell_type": "code",
   "execution_count": null,
   "id": "0b9a1a0c",
   "metadata": {},
   "outputs": [],
   "source": [
    "model_id = 'stabilityai/sd-turbo'\n",
    "pipe = AutoPipelineForText2Image.from_pretrained(model_id, torch_dtype=torch.float16).to('cuda' if torch.cuda.is_available() else 'cpu')\n",
    "print('🎨 Model loaded and ready!')"
   ]
  },
  {
   "cell_type": "markdown",
   "id": "a2df0fca",
   "metadata": {},
   "source": [
    "## 🖼️ Step 5: Generate Your First Image\n",
    "Let’s make AI draw something from your words! Try running the cell below."
   ]
  },
  {
   "cell_type": "code",
   "execution_count": null,
   "id": "7db77317",
   "metadata": {},
   "outputs": [],
   "source": [
    "prompt = 'a cute robot painting with watercolors'\n",
    "image = pipe(prompt).images[0]\n",
    "image.show()"
   ]
  },
  {
   "cell_type": "markdown",
   "id": "33b51873",
   "metadata": {},
   "source": [
    "✅ **Try it yourself:** Change the text in the quotes to something else! For example:\n",
    "- `a flying car over the ocean at sunset`\n",
    "- `a futuristic classroom with friendly robots`\n",
    "- `a golden retriever astronaut on Mars`"
   ]
  },
  {
   "cell_type": "markdown",
   "id": "d1db710c",
   "metadata": {},
   "source": [
    "## 🧩 Step 6: Try Multiple Prompts\n",
    "Let’s create several images automatically using a list of prompts."
   ]
  },
  {
   "cell_type": "code",
   "execution_count": null,
   "id": "4da77758",
   "metadata": {},
   "outputs": [],
   "source": [
    "prompts = [\n",
    "    'pixel art dragon, bright colors',\n",
    "    'robot mentor with laptop, in a classroom',\n",
    "    'magic sword on pedestal, glowing in dark room'\n",
    "]\n",
    "\n",
    "for i, text in enumerate(prompts):\n",
    "    print(f'Generating image {i+1}:', text)\n",
    "    image = pipe(text).images[0]\n",
    "    image.show()"
   ]
  },
  {
   "cell_type": "markdown",
   "id": "3f585080",
   "metadata": {},
   "source": [
    "## 🎨 Step 7: Your Turn — Create Your Own Prompts!\n",
    "Now it’s your time to get creative! ✨\n",
    "Come up with 3–5 of your own prompts. Think of art styles like *cartoon, watercolor, futuristic, pixel art*, etc."
   ]
  },
  {
   "cell_type": "code",
   "execution_count": null,
   "id": "57c95596",
   "metadata": {},
   "outputs": [],
   "source": [
    "my_prompts = [\n",
    "    'cartoon astronaut exploring candy planet',\n",
    "    'pixel art robot chef cooking ramen',\n",
    "    'AI superhero flying through neon city'\n",
    "]\n",
    "\n",
    "for i, text in enumerate(my_prompts):\n",
    "    print(f'🎨 Creating: {text}')\n",
    "    image = pipe(text).images[0]\n",
    "    image.save(f'my_image_{i}.png')\n",
    "    image.show()"
   ]
  },
  {
   "cell_type": "markdown",
   "id": "b0d2999b",
   "metadata": {},
   "source": [
    "## 💾 Step 8: Save Your Creations\n",
    "Let’s save all your artworks in a folder so you can use them later in your AI Guessing Game."
   ]
  },
  {
   "cell_type": "code",
   "execution_count": null,
   "id": "295d5a7b",
   "metadata": {},
   "outputs": [],
   "source": [
    "!mkdir -p my_game_assets\n",
    "for i, text in enumerate(my_prompts):\n",
    "    path = f'my_game_assets/asset_{i}.png'\n",
    "    pipe(text).images[0].save(path)\n",
    "print('✅ All images saved to the folder: my_game_assets/')"
   ]
  },
  {
   "cell_type": "markdown",
   "id": "a8a657d2",
   "metadata": {},
   "source": [
    "## 🧭 Wrap-Up & Reflection\n",
    "🎉 You just used AI to generate art from your imagination!\n",
    "\n",
    "**Discuss:**\n",
    "- Which prompt gave the best result?\n",
    "- How can you describe things more clearly for better results?\n",
    "- How might this be useful for your future AI game?\n",
    "\n",
    "Next up → **Session 2: Train a Classifier** 🧠"
   ]
  }
 ],
 "metadata": {},
 "nbformat": 4,
 "nbformat_minor": 5
}
