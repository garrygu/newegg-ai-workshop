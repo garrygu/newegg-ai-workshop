{
 "cells": [
  {
   "cell_type": "markdown",
   "id": "399611ad",
   "metadata": {},
   "source": [
    "# Big Project – Session 1: Generate Game Assets\n",
    "Use Stable Diffusion Turbo to create your game's characters/items. All images save into `game_project/game_assets/`.\n",
    "\n",
    "> Keep prompts school-appropriate. Try styles like *pixel art*, *cartoon*, *isometric*."
   ]
  },
  {
   "cell_type": "code",
   "execution_count": null,
   "id": "b2e150e7",
   "metadata": {},
   "outputs": [],
   "source": [
    "# Setup (GPU recommended)\n",
    "!pip -q install diffusers transformers accelerate safetensors torch --extra-index-url https://download.pytorch.org/whl/cu121\n",
    "import torch, os, time\n",
    "print('CUDA available:', torch.cuda.is_available())\n",
    "\n",
    "ASSET_DIR = \"/mnt/data/nicegpu_ai_workshop/game_project/game_assets\"\n",
    "os.makedirs(ASSET_DIR, exist_ok=True)\n",
    "print('Saving images to:', ASSET_DIR)"
   ]
  },
  {
   "cell_type": "code",
   "execution_count": null,
   "id": "6010a12d",
   "metadata": {},
   "outputs": [],
   "source": [
    "from diffusers import AutoPipelineForText2Image\n",
    "import torch, os\n",
    "\n",
    "MODEL_ID = os.environ.get(\"SD_MODEL_ID\", \"stabilityai/sd-turbo\")\n",
    "pipe = AutoPipelineForText2Image.from_pretrained(\n",
    "    MODEL_ID, torch_dtype=torch.float16 if torch.cuda.is_available() else torch.float32\n",
    ").to('cuda' if torch.cuda.is_available() else 'cpu')"
   ]
  },
  {
   "cell_type": "markdown",
   "id": "f729f55e",
   "metadata": {},
   "source": [
    "### Try a few prompts"
   ]
  },
  {
   "cell_type": "code",
   "execution_count": null,
   "id": "ef924e6a",
   "metadata": {},
   "outputs": [],
   "source": [
    "prompts = [\n",
    "    \"pixel art dragon with friendly face, bright palette\",\n",
    "    \"cartoon robot mentor holding a laptop, high school setting, cute\",\n",
    "    \"isometric magic sword on a pedestal, glowing, game icon\"\n",
    "]\n",
    "for i, p in enumerate(prompts, 1):\n",
    "    img = pipe(p, num_inference_steps=2, guidance_scale=0.0).images[0]\n",
    "    path = f\"{ASSET_DIR}/asset_{i:02d}.png\"\n",
    "    img.save(path)\n",
    "    display(img); print(\"Saved:\", path)"
   ]
  },
  {
   "cell_type": "markdown",
   "id": "d2a68f36",
   "metadata": {},
   "source": [
    "### Your turn – add 5–10 prompts and generate your asset deck"
   ]
  },
  {
   "cell_type": "code",
   "execution_count": null,
   "id": "0ed455ce",
   "metadata": {},
   "outputs": [],
   "source": [
    "your_prompts = [\n",
    "    # e.g., \"pixel art wizard\", \"cartoon cat warrior\", ...\n",
    "]\n",
    "for i, p in enumerate(your_prompts, 100):\n",
    "    img = pipe(p, num_inference_steps=2, guidance_scale=0.0).images[0]\n",
    "    path = f\"{ASSET_DIR}/asset_{i}.png\"\n",
    "    img.save(path); print(\"Saved:\", path)"
   ]
  }
 ],
 "metadata": {
  "kernelspec": {
   "display_name": "Python 3.12 (torch312)",
   "language": "python",
   "name": "torch312"
  },
  "language_info": {
   "codemirror_mode": {
    "name": "ipython",
    "version": 3
   },
   "file_extension": ".py",
   "mimetype": "text/x-python",
   "name": "python",
   "nbconvert_exporter": "python",
   "pygments_lexer": "ipython3",
   "version": "3.12.11"
  }
 },
 "nbformat": 4,
 "nbformat_minor": 5
}
