{
 "cells": [
  {
   "cell_type": "markdown",
   "id": "a31223d6",
   "metadata": {},
   "source": [
    "# 🎒 YouthAI Bonus Module Pack (Plan B Extension)\n",
    "\n",
    "Welcome to your extra AI mini-lessons!  \n",
    "Each module takes about 15–20 minutes and helps you explore a new, fun side of AI — without needing coding.\n",
    "\n",
    "---\n"
   ]
  },
  {
   "cell_type": "markdown",
   "id": "8194b948",
   "metadata": {},
   "source": [
    "# 🌟 Module 1: Train Your Own Image Classifier\n",
    "**Goal:** Learn how AI learns from examples.  \n",
    "**Tool:** [Teachable Machine](https://teachablemachine.withgoogle.com/)  \n",
    "\n",
    "### 🧠 Try It Now\n",
    "1. Open the link above.\n",
    "2. Create two categories — e.g. “Pencil ✏️” and “Phone 📱”.\n",
    "3. Record 10 samples for each with your webcam.\n",
    "4. Test your model — see if it can guess right!\n",
    "\n",
    "> 💡 **Reflect:** What happens if you train with fewer examples?  \n",
    "> 💬 **Discussion:** How does AI “learn” patterns like humans?\n",
    "---"
   ]
  },
  {
   "cell_type": "markdown",
   "id": "7b1d99d1",
   "metadata": {},
   "source": [
    "# 🎨 Module 2: AI Drawing Challenge\n",
    "**Goal:** Experience AI-powered recognition.  \n",
    "**Tool:** [AutoDraw](https://autodraw.com/)  \n",
    "\n",
    "### 🧠 Try It Now\n",
    "1. Draw anything you like — a cat, a car, a pizza!  \n",
    "2. See how Google’s AI guesses what it might be.  \n",
    "3. Let it finish your drawing.\n",
    "\n",
    "> 💪 **Challenge:** Can you “fool” the AI with a creative drawing?  \n",
    "> 💡 **Reflect:** What does this tell you about how AI understands shapes?\n",
    "---"
   ]
  },
  {
   "cell_type": "markdown",
   "id": "f8b09128",
   "metadata": {},
   "source": [
    "# 🕵️ Module 3: Spot the Fake\n",
    "**Goal:** Learn how AI can create fake images (deepfakes).  \n",
    "**Tool:** [Which Face Is Real?](https://www.whichfaceisreal.com/)  \n",
    "\n",
    "### 🧠 Try It Now\n",
    "1. Visit the site — look at the two faces.  \n",
    "2. Guess: which one is real, which one is AI-generated?  \n",
    "3. Click to reveal the answer.\n",
    "\n",
    "> 💡 **Reflect:** Why is it hard to tell?  \n",
    "> 🤔 **Discussion:** Why is AI image verification important?\n",
    "---"
   ]
  },
  {
   "cell_type": "markdown",
   "id": "6c831870",
   "metadata": {},
   "source": [
    "# 🎵 Module 4: AI Music Jam\n",
    "**Goal:** Create your own AI-generated song or background track.  \n",
    "**Tools:** [Suno AI](https://suno.ai) or [Mubert](https://mubert.com)  \n",
    "\n",
    "### 🧠 Try It Now\n",
    "1. Pick a music style (pop, chill, game soundtrack).  \n",
    "2. Type a short idea like “a happy robot dance tune.”  \n",
    "3. Listen and share with your classmates.\n",
    "\n",
    "> 💪 **Challenge:** Make a 20-second theme song for your AI video.  \n",
    "> 💡 **Reflect:** How does AI know what music “feels” like?\n",
    "---"
   ]
  },
  {
   "cell_type": "markdown",
   "id": "01c6cc26",
   "metadata": {},
   "source": [
    "# 🗣️ Module 5: AI Voiceover Studio\n",
    "**Goal:** Turn written text into speech.  \n",
    "**Tool:** [ElevenLabs Free Mode](https://elevenlabs.io/app/speech-synthesis)  \n",
    "\n",
    "### 🧠 Try It Now\n",
    "1. Write a 1–2 sentence story about your AI friend.  \n",
    "2. Paste it into the speech generator.  \n",
    "3. Pick a voice and click “Generate.”\n",
    "\n",
    "> 💪 **Challenge:** Match a voice tone to your story (funny, calm, heroic).  \n",
    "> 💡 **Reflect:** When might using synthetic voices be helpful or risky?\n",
    "---"
   ]
  },
  {
   "cell_type": "markdown",
   "id": "4f0bc561",
   "metadata": {},
   "source": [
    "# 📖 Module 6: AI Comic Strip Creator\n",
    "**Goal:** Create a 3-panel comic using AI.  \n",
    "**Tool:** [Canva Magic Write + Text-to-Image](https://www.canva.com)  \n",
    "\n",
    "### 🧠 Try It Now\n",
    "1. Open Canva and start a new design.  \n",
    "2. Use “Magic Write” to brainstorm your comic idea.  \n",
    "3. Generate images with Text-to-Image and place them in panels.\n",
    "\n",
    "> 💪 **Challenge:** Title your comic “My Robot Day.”  \n",
    "> 💡 **Reflect:** What makes AI storytelling fun or surprising?\n",
    "---"
   ]
  },
  {
   "cell_type": "markdown",
   "id": "2fda25f6",
   "metadata": {},
   "source": [
    "# 🌍 Module 7: Translate & Transform\n",
    "**Goal:** See how AI understands different languages.  \n",
    "**Tool:** [DeepL Translator](https://www.deepl.com/translator)  \n",
    "\n",
    "### 🧠 Try It Now\n",
    "1. Write 2–3 lines of your story.  \n",
    "2. Translate it to another language.  \n",
    "3. Translate it back to English — did anything change?\n",
    "\n",
    "> 💬 **Discussion:** How well did the meaning stay the same?  \n",
    "> 💡 **Reflect:** What challenges might AI face in understanding culture?\n",
    "---"
   ]
  },
  {
   "cell_type": "markdown",
   "id": "266c2a33",
   "metadata": {},
   "source": [
    "# 💡 Module 8: AI for Good Idea Lab\n",
    "**Goal:** Think about how AI can make the world better.  \n",
    "**Tool:** [ChatGPT (gpt-4o)](https://chat.openai.com/?model=gpt-4o)  \n",
    "\n",
    "### 🧠 Try It Now\n",
    "1. Ask ChatGPT: “Give me 3 ideas for how AI can help the environment.”  \n",
    "2. Pick your favorite idea and explain why it matters.  \n",
    "3. Share in your group!\n",
    "\n",
    "> 💪 **Challenge:** Create a slogan or poster for your AI-for-good idea.  \n",
    "> 💡 **Reflect:** What responsibility do we have when using AI?\n",
    "---"
   ]
  }
 ],
 "metadata": {},
 "nbformat": 4,
 "nbformat_minor": 5
}