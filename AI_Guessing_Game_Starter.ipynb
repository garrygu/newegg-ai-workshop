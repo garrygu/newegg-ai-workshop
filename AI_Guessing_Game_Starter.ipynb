{
 "cells": [
  {
   "cell_type": "markdown",
   "id": "1fbe0ca4",
   "metadata": {},
   "source": [
    "# 🎮 AI Guessing Game – Starter Template (NiceGPU)\n",
    "\n",
    "This notebook is the starter template for the **Big Project**.\n",
    "You'll assemble a simple AI-powered game that uses:\n",
    "- **AI images** (generated in Session 1)\n",
    "- **Image classifier** (trained in Session 2)\n",
    "- **Sentiment analysis** + **Chatbot persona** (Session 3)\n",
    "- A **game loop** (this notebook)\n",
    "\n",
    "> Tip: Run cells in order. If something breaks, restart the kernel and run from the top.\n"
   ]
  },
  {
   "cell_type": "markdown",
   "id": "884ccbb5",
   "metadata": {},
   "source": [
    "## 0) Setup & GPU Check"
   ]
  },
  {
   "cell_type": "code",
   "execution_count": null,
   "id": "f3f80676",
   "metadata": {},
   "outputs": [],
   "source": [
    "!pip -q install torch torchvision transformers diffusers accelerate datasets safetensors pillow matplotlib --extra-index-url https://download.pytorch.org/whl/cu121\n",
    "import torch, platform\n",
    "print('Python:', platform.python_version())\n",
    "print('CUDA available:', torch.cuda.is_available())\n",
    "if torch.cuda.is_available():\n",
    "    print('GPU:', torch.cuda.get_device_name(0))"
   ]
  },
  {
   "cell_type": "markdown",
   "id": "405f684f",
   "metadata": {},
   "source": [
    "## 1) Project Structure\n",
    "\n",
    "We'll use the following folders:\n",
    "\n",
    "```\n",
    "game_assets/          # put your generated images here (from Session 1)\n",
    "models/               # save/load your trained classifier here (from Session 2)\n",
    "dialogue/             # optional: any text assets for chatbot prompts\n",
    "```\n",
    "\n",
    "Create them now if they don't exist.\n"
   ]
  },
  {
   "cell_type": "code",
   "execution_count": null,
   "id": "10923957",
   "metadata": {},
   "outputs": [],
   "source": [
    "from pathlib import Path\n",
    "for d in [\"game_assets\", \"models\", \"dialogue\"]:\n",
    "    Path(d).mkdir(parents=True, exist_ok=True)\n",
    "print(\"Folders ready!\")"
   ]
  },
  {
   "cell_type": "markdown",
   "id": "247a1f8c",
   "metadata": {},
   "source": [
    "## 2) Load & Display Game Assets (Images)"
   ]
  },
  {
   "cell_type": "code",
   "execution_count": null,
   "id": "fc92ee9f",
   "metadata": {},
   "outputs": [],
   "source": [
    "from pathlib import Path\n",
    "from PIL import Image\n",
    "import matplotlib.pyplot as plt\n",
    "\n",
    "ASSET_DIR = Path(\"game_assets\")\n",
    "assets = sorted([p for p in ASSET_DIR.glob(\"**/*\") if p.suffix.lower() in {\".png\",\".jpg\",\".jpeg\"}])\n",
    "print(f\"Found {len(assets)} image assets.\")\n",
    "if assets:\n",
    "    img = Image.open(assets[0])\n",
    "    plt.imshow(img); plt.axis('off'); plt.title(assets[0].name); plt.show()\n",
    "else:\n",
    "    print(\"Put images into game_assets/ and rerun this cell.\")"
   ]
  },
  {
   "cell_type": "markdown",
   "id": "ae140151",
   "metadata": {},
   "source": [
    "## 3) Image Classifier – Load & Predict"
   ]
  },
  {
   "cell_type": "code",
   "execution_count": null,
   "id": "29d853c5",
   "metadata": {},
   "outputs": [],
   "source": [
    "# Load a trained classifier from Session 2 (if available).\n",
    "# Expecting a PyTorch .pt or .pth checkpoint that matches your model code.\n",
    "import torch, torchvision.transforms as T\n",
    "from PIL import Image\n",
    "from pathlib import Path\n",
    "\n",
    "DEVICE = 'cuda' if torch.cuda.is_available() else 'cpu'\n",
    "MODEL_PATH = Path(\"models/classifier.pt\")  # TODO: update if your filename differs\n",
    "\n",
    "# Define the same model architecture you trained (e.g., ResNet18 with num_classes=your classes).\n",
    "try:\n",
    "    from torchvision.models import resnet18\n",
    "    num_classes = 10  # TODO: change to match your training setup\n",
    "    model = resnet18(num_classes=num_classes).to(DEVICE)\n",
    "    if MODEL_PATH.exists():\n",
    "        model.load_state_dict(torch.load(MODEL_PATH, map_location=DEVICE))\n",
    "        print(f\"Loaded classifier: {MODEL_PATH}\")\n",
    "    else:\n",
    "        print(\"No trained classifier found at models/classifier.pt. Using untrained model (predictions will be random).\")\n",
    "    model.eval()\n",
    "except Exception as e:\n",
    "    print(\"Error loading model:\", e)\n",
    "\n",
    "# Simple transform; adjust to match your training preprocessing\n",
    "img_tfms = T.Compose([T.Resize((32,32)), T.ToTensor()])\n",
    "\n",
    "def predict_image(img_path, classes=None):\n",
    "    img = Image.open(img_path).convert(\"RGB\")\n",
    "    x = img_tfms(img).unsqueeze(0).to(DEVICE)\n",
    "    with torch.no_grad():\n",
    "        logits = model(x)\n",
    "        pred = logits.argmax(1).item()\n",
    "    if classes and 0 <= pred < len(classes):\n",
    "        return classes[pred]\n",
    "    return str(pred)\n",
    "\n",
    "# Try on the first asset\n",
    "classes = [\"class0\",\"class1\",\"class2\",\"class3\",\"class4\",\"class5\",\"class6\",\"class7\",\"class8\",\"class9\"]  # TODO: replace\n",
    "from pathlib import Path\n",
    "assets = sorted([p for p in Path(\"game_assets\").glob(\"**/*\") if p.suffix.lower() in {'.png','.jpg','.jpeg'}])\n",
    "if assets:\n",
    "    print(\"Prediction:\", predict_image(assets[0], classes=classes))\n",
    "else:\n",
    "    print(\"No assets yet to predict on.\")"
   ]
  },
  {
   "cell_type": "markdown",
   "id": "7d8239b0",
   "metadata": {},
   "source": [
    "## 4) Sentiment Analysis – Quick Feedback"
   ]
  },
  {
   "cell_type": "code",
   "execution_count": null,
   "id": "927dd186",
   "metadata": {},
   "outputs": [],
   "source": [
    "from transformers import pipeline\n",
    "sentiment = pipeline('sentiment-analysis', device=0 if __import__('torch').cuda.is_available() else -1)\n",
    "print(sentiment(\"I love this game!\") )"
   ]
  },
  {
   "cell_type": "markdown",
   "id": "cbf3c523",
   "metadata": {},
   "source": [
    "## 5) Chatbot Persona – Game Master Responses"
   ]
  },
  {
   "cell_type": "code",
   "execution_count": null,
   "id": "f7dff9db",
   "metadata": {},
   "outputs": [],
   "source": [
    "from transformers import pipeline\n",
    "gen = pipeline('text-generation', model='gpt2', device=0 if __import__('torch').cuda.is_available() else -1)\n",
    "\n",
    "def game_master_reply(context, max_new_tokens=60):\n",
    "    persona = \"You are a friendly Game Master. Encourage players, keep answers under 40 words, and be school-appropriate.\"\n",
    "    prompt = f\"\"\"{persona}\n",
    "Context: {context}\n",
    "Reply:\"\"\"\n",
    "    out = gen(prompt, max_new_tokens=max_new_tokens, do_sample=True, temperature=0.9)[0]['generated_text']\n",
    "    return out\n",
    "\n",
    "print(game_master_reply(\"The player guessed 'cat' and it was correct!\"))"
   ]
  },
  {
   "cell_type": "markdown",
   "id": "04249707",
   "metadata": {},
   "source": [
    "## 6) Game Loop – Putting It All Together"
   ]
  },
  {
   "cell_type": "code",
   "execution_count": null,
   "id": "8be6e71f",
   "metadata": {},
   "outputs": [],
   "source": [
    "from pathlib import Path\n",
    "from PIL import Image\n",
    "import random\n",
    "\n",
    "SCORE = 0\n",
    "ROUND_LIMIT = 5\n",
    "\n",
    "def play_round(img_path):\n",
    "    global SCORE\n",
    "    print(\"\\n=== New Round ===\")\n",
    "    display(Image.open(img_path).resize((256,256)))\n",
    "    guess = input(\"Your guess: \").strip()\n",
    "    # Classifier prediction\n",
    "    pred_label = predict_image(img_path, classes=classes)\n",
    "    correct = (guess.lower() == str(pred_label).lower())\n",
    "    # Sentiment feedback\n",
    "    fb = sentiment(f\"I guessed {guess}.\")[0]\n",
    "    # Chatbot response\n",
    "    gm = game_master_reply(f\"Player guessed '{guess}'. Truth is '{pred_label}'. Sentiment={fb['label']}\")\n",
    "    # Score update\n",
    "    if correct:\n",
    "        SCORE += 1\n",
    "        print(\"✅ Correct!\")\n",
    "    else:\n",
    "        print(f\"❌ Not quite. It was: {pred_label}\")\n",
    "    print(\"GM:\", gm)\n",
    "    print(\"Score:\", SCORE)\n",
    "\n",
    "# Pick random images for ROUNDS\n",
    "assets = sorted([p for p in Path(\"game_assets\").glob(\"**/*\") if p.suffix.lower() in {'.png','.jpg','.jpeg'}])\n",
    "if len(assets) < ROUND_LIMIT:\n",
    "    print(f\"Need at least {ROUND_LIMIT} images in game_assets/. Currently: {len(assets)}\")\n",
    "else:\n",
    "    choices = random.sample(assets, ROUND_LIMIT)\n",
    "    for p in choices:\n",
    "        play_round(p)\n",
    "\n",
    "print(\"\\nGame over! Final Score:\", SCORE)"
   ]
  }
 ],
 "metadata": {
  "language_info": {
   "name": "python"
  }
 },
 "nbformat": 4,
 "nbformat_minor": 5
}
