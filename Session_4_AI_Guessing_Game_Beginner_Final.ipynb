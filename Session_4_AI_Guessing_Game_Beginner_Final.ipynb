{
 "cells": [
  {
   "cell_type": "markdown",
   "id": "f0198702",
   "metadata": {},
   "source": [
    "\n",
    "# 🎮 Session 4: Create Your Own AI Guessing Game (Beginner Level)\n",
    "\n",
    "Welcome to the **final session** of Newegg’s *AI Foundations Workshop*! 🎓  \n",
    "You’ve already learned how to **generate images**, **classify pictures**, and **build a chatbot**.  \n",
    "Now it’s time to **combine all three** into your very own **AI Guessing Game!** 🤖🖼️💬  \n",
    "\n",
    "In this project, your AI will try to *guess what the user is thinking* — by looking at clues, pictures, and even emotions!\n"
   ]
  },
  {
   "cell_type": "markdown",
   "id": "a2412d58",
   "metadata": {},
   "source": [
    "\n",
    "## 🎯 What You’ll Learn\n",
    "- How to combine multiple AI tools into one project  \n",
    "- How to make your AI interactive and fun  \n",
    "- How to design basic game logic with Python  \n",
    "- How to customize your AI’s “personality”  \n"
   ]
  },
  {
   "cell_type": "markdown",
   "id": "54ef4717",
   "metadata": {},
   "source": [
    "\n",
    "## ⚙️ Step 1: Setup Your Environment\n",
    "We’ll use parts from the previous sessions.  \n",
    "If any libraries are missing, install them first:\n",
    "\n",
    "```bash\n",
    "pip install torch torchvision transformers matplotlib\n",
    "```\n"
   ]
  },
  {
   "cell_type": "code",
   "execution_count": null,
   "id": "3bbe02ef",
   "metadata": {},
   "outputs": [],
   "source": [
    "\n",
    "from transformers import pipeline\n",
    "import random\n",
    "\n",
    "# Sentiment analysis model\n",
    "sentiment_model = pipeline(\"sentiment-analysis\")\n",
    "\n",
    "print(\"Environment ready! 🚀\")\n"
   ]
  },
  {
   "cell_type": "markdown",
   "id": "8b664edc",
   "metadata": {},
   "source": [
    "\n",
    "## 🧩 Step 2: Game Concept\n",
    "Here’s how the **AI Guessing Game** works:\n",
    "\n",
    "1️⃣ The AI shows or describes an image (generated or pre-selected).  \n",
    "2️⃣ The player gives hints or reactions through text.  \n",
    "3️⃣ The chatbot analyzes the text’s **sentiment** and gives a fun response.  \n",
    "4️⃣ The AI tries to **guess** what the object or mood is!  \n",
    "\n",
    "Let’s start with a simple structure.\n"
   ]
  },
  {
   "cell_type": "code",
   "execution_count": null,
   "id": "40d6bae5",
   "metadata": {},
   "outputs": [],
   "source": [
    "\n",
    "# Basic structure of the game\n",
    "def ai_guessing_game():\n",
    "    print(\"🎮 Welcome to the AI Guessing Game!\")\n",
    "    print(\"Think of an object (like a cat, car, or pizza). Give me clues, and I’ll try to guess it!\")\n",
    "    print(\"Type 'quit' to exit.\n",
    "\")\n",
    "\n",
    "    while True:\n",
    "        user_input = input(\"🗣️ Your clue: \")\n",
    "        if user_input.lower() == \"quit\":\n",
    "            print(\"Thanks for playing! Goodbye! 👋\")\n",
    "            break\n",
    "        \n",
    "        sentiment = sentiment_model(user_input)[0]['label']\n",
    "        if sentiment == 'POSITIVE':\n",
    "            print(\"😊 You sound excited! Hmm... maybe it's something fun or cute?\")\n",
    "        elif sentiment == 'NEGATIVE':\n",
    "            print(\"😢 That sounds sad... maybe it's something scary or broken?\")\n",
    "        else:\n",
    "            print(\"🤔 Neutral tone... let's think!\")\n",
    "        \n",
    "        # Random playful guesses\n",
    "        guesses = [\"cat\", \"dog\", \"pizza\", \"car\", \"robot\", \"tree\"]\n",
    "        print(\"🤖 AI guesses:\", random.choice(guesses))\n",
    "        print(\"------------------------------------------------------\")\n",
    "\n",
    "ai_guessing_game()\n"
   ]
  },
  {
   "cell_type": "markdown",
   "id": "9539d377",
   "metadata": {},
   "source": [
    "\n",
    "## 🖼️ Step 3: Add Image Fun (Optional)\n",
    "If you want your AI to *show* something, you can use your **image generation model** from Session 1!  \n",
    "For now, we’ll just simulate an image description for fun.\n"
   ]
  },
  {
   "cell_type": "code",
   "execution_count": null,
   "id": "bdcb7742",
   "metadata": {},
   "outputs": [],
   "source": [
    "\n",
    "def show_ai_image_guess():\n",
    "    ideas = [\"a cute puppy\", \"a flying car\", \"a slice of pizza\", \"a smiling robot\"]\n",
    "    chosen = random.choice(ideas)\n",
    "    print(f\"🖼️ AI shows an image of {chosen}!\")\n",
    "    return chosen\n",
    "\n",
    "# Example\n",
    "show_ai_image_guess()\n"
   ]
  },
  {
   "cell_type": "markdown",
   "id": "c8daf87e",
   "metadata": {},
   "source": [
    "\n",
    "## 🧠 Step 4: Combine Chatbot and Image Output\n",
    "Let’s make our AI a bit smarter — it reacts based on your clues *and* shows an image idea.\n"
   ]
  },
  {
   "cell_type": "code",
   "execution_count": null,
   "id": "f17f4948",
   "metadata": {},
   "outputs": [],
   "source": [
    "\n",
    "def smart_ai_guessing_game():\n",
    "    print(\"🎮 Welcome to the AI Guessing Game 2.0!\")\n",
    "    print(\"Give me clues, and I’ll guess what you’re thinking! (Type 'quit' to stop)\n",
    "\")\n",
    "\n",
    "    while True:\n",
    "        user_input = input(\"🗣️ Your clue: \")\n",
    "        if user_input.lower() == \"quit\":\n",
    "            print(\"Thanks for playing! Goodbye! 👋\")\n",
    "            break\n",
    "\n",
    "        sentiment = sentiment_model(user_input)[0]['label']\n",
    "        image_guess = show_ai_image_guess()\n",
    "\n",
    "        if sentiment == 'POSITIVE':\n",
    "            print(f\"😊 You sound happy! Maybe you're thinking of {image_guess}?\")\n",
    "        elif sentiment == 'NEGATIVE':\n",
    "            print(f\"😢 That doesn’t sound good... maybe it's not {image_guess}.\")\n",
    "        else:\n",
    "            print(f\"🤔 Hmm... could it be {image_guess}?\")\n",
    "\n",
    "        print(\"------------------------------------------------------\")\n",
    "\n",
    "smart_ai_guessing_game()\n"
   ]
  },
  {
   "cell_type": "markdown",
   "id": "787a3789",
   "metadata": {},
   "source": [
    "\n",
    "## 🧩 Step 5: Level Up! – Mini Challenges\n",
    "\n",
    "### 1️⃣ 🎨 Add Personality\n",
    "Give your AI a name and a fun personality. Example: “I’m ChatNewegg, your guessing buddy!”\n",
    "\n",
    "### 2️⃣ 🧠 Smarter Guesses\n",
    "Use a list of categories from CIFAR‑10 (from Session 2) and let your AI guess from them.\n",
    "\n",
    "### 3️⃣ 💬 Chat History\n",
    "Keep track of all clues and AI guesses in a list, and print them at the end of the game.\n",
    "\n",
    "### 4️⃣ 🎯 Scoring System\n",
    "Give the player points if the AI guesses correctly within 5 tries!\n",
    "\n",
    "### 5️⃣ 🚀 Bonus Challenge\n",
    "Combine everything — image display + sentiment + game logic — to make your AI truly come alive!\n"
   ]
  },
  {
   "cell_type": "markdown",
   "id": "ae5b94eb",
   "metadata": {},
   "source": [
    "\n",
    "## 🎉 Step 6: Wrap-Up & What’s Next\n",
    "Congratulations! You just created your own **AI-powered game** that uses image, text, and emotion understanding. 🏆  \n",
    "\n",
    "You’ve completed the **Newegg AI Foundations Workshop**! 🎓  \n",
    "You now know how to:  \n",
    "- Generate creative AI images 🖼️  \n",
    "- Train an AI to recognize pictures 🧠  \n",
    "- Build a chatbot that understands emotions 💬  \n",
    "- Combine them into an interactive experience 🎮  \n",
    "\n",
    "Keep experimenting, keep learning, and remember — AI is all about creativity and curiosity! 🌟  \n"
   ]
  }
 ],
 "metadata": {},
 "nbformat": 4,
 "nbformat_minor": 5
}