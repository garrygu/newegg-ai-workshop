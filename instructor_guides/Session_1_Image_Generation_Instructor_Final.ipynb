{
 "cells": [
  {
   "cell_type": "markdown",
   "id": "90d58345",
   "metadata": {},
   "source": [
    "# 🎓 Session 1 – Instructor Version: Create with AI (Image Generation)\n",
    "This instructor notebook is a fully runnable version of the **Beginner** notebook, enriched with guidance notes, tips, and discussion prompts.\n",
    "\n",
    "Each section includes:\n",
    "- 🔍 Teaching Tips\n",
    "- ⚠️ Common Pitfalls\n",
    "- 💬 Discussion Prompts\n",
    "- 🧩 Extension Ideas\n",
    "- 🎉 Fun Facts\n",
    "\n",
    "---"
   ]
  },
  {
   "cell_type": "markdown",
   "id": "40e550db",
   "metadata": {},
   "source": [
    "## 🧠 Overview\n",
    "In this session, students will experience how AI can **generate images from text** using a model called *Stable Diffusion Turbo*.\n",
    "\n",
    "Encourage curiosity and creativity. Emphasize that this is not about coding perfection, but about understanding how words can guide AI image generation.\n",
    "\n",
    "---"
   ]
  },
  {
   "cell_type": "markdown",
   "id": "0c648e86",
   "metadata": {},
   "source": [
    "## 👀 Step 1: What AI Can Do\n",
    "Show a pre-generated image first to create excitement."
   ]
  },
  {
   "cell_type": "code",
   "execution_count": null,
   "id": "dda7eb23",
   "metadata": {},
   "outputs": [],
   "source": [
    "from PIL import Image\n",
    "import requests\n",
    "from io import BytesIO\n",
    "\n",
    "url = 'https://huggingface.co/datasets/hf-internal-testing/diffusers-images/resolve/main/text2img_samples/dog_cat.png'\n",
    "Image.open(BytesIO(requests.get(url).content))"
   ]
  },
  {
   "cell_type": "markdown",
   "id": "20c22963",
   "metadata": {},
   "source": [
    "🔍 **Teaching Tip:** Ask, *“How do you think AI made this image just from words?”*"
   ]
  },
  {
   "cell_type": "markdown",
   "id": "93168dae",
   "metadata": {},
   "source": [
    "## ⚙️ Step 2: Setup Environment\n",
    "Install required AI libraries. Explain that these tools give Python the ability to talk to AI models hosted online."
   ]
  },
  {
   "cell_type": "code",
   "execution_count": null,
   "id": "c9d853a1",
   "metadata": {},
   "outputs": [],
   "source": [
    "!pip install --quiet diffusers transformers accelerate safetensors"
   ]
  },
  {
   "cell_type": "markdown",
   "id": "52f0f3ec",
   "metadata": {},
   "source": [
    "⚠️ **Common Pitfall:** If installation fails due to internet timeout, re-run the cell or check network settings.\n",
    "\n",
    "🎉 **Fun Fact:** *Diffusers* library is maintained by Hugging Face — an open AI community sharing thousands of models."
   ]
  },
  {
   "cell_type": "markdown",
   "id": "3e0cdc01",
   "metadata": {},
   "source": [
    "## 🧩 Step 3: Import Libraries & Check GPU\n",
    "Demonstrate how to check whether GPU acceleration is available (important for speed)."
   ]
  },
  {
   "cell_type": "code",
   "execution_count": null,
   "id": "901d96c6",
   "metadata": {},
   "outputs": [],
   "source": [
    "import torch, os\n",
    "from diffusers import AutoPipelineForText2Image\n",
    "print('✅ Setup complete. GPU available:', torch.cuda.is_available())"
   ]
  },
  {
   "cell_type": "markdown",
   "id": "604debf3",
   "metadata": {},
   "source": [
    "💬 **Discussion Prompt:** Ask students what might happen if GPU is not available."
   ]
  },
  {
   "cell_type": "markdown",
   "id": "b5a9fb7c",
   "metadata": {},
   "source": [
    "## 🧠 Step 4: Load the Model\n",
    "Introduce *Stable Diffusion Turbo* — a fast AI image generation model."
   ]
  },
  {
   "cell_type": "code",
   "execution_count": null,
   "id": "28fb3a41",
   "metadata": {},
   "outputs": [],
   "source": [
    "model_id = 'stabilityai/sd-turbo'\n",
    "pipe = AutoPipelineForText2Image.from_pretrained(model_id, torch_dtype=torch.float16).to('cuda' if torch.cuda.is_available() else 'cpu')\n",
    "print('🎨 Model loaded and ready!')"
   ]
  },
  {
   "cell_type": "markdown",
   "id": "f41eff8b",
   "metadata": {},
   "source": [
    "🔍 **Teaching Tip:** Explain how pretrained models save time — students don’t need to train from scratch.\n",
    "\n",
    "⚠️ **Common Pitfall:** If GPU memory runs out, restart runtime or switch to smaller models."
   ]
  },
  {
   "cell_type": "markdown",
   "id": "63f8e331",
   "metadata": {},
   "source": [
    "## 🖼️ Step 5: Generate the First Image\n",
    "Let’s have students create their first AI-generated picture!"
   ]
  },
  {
   "cell_type": "code",
   "execution_count": null,
   "id": "47fb4c26",
   "metadata": {},
   "outputs": [],
   "source": [
    "prompt = 'a cute robot painting with watercolors'\n",
    "image = pipe(prompt).images[0]\n",
    "image.show()"
   ]
  },
  {
   "cell_type": "markdown",
   "id": "e55949c4",
   "metadata": {},
   "source": [
    "💬 **Discussion Prompt:** How would you describe this image in one sentence?\n",
    "\n",
    "🎉 **Fun Fact:** The model understands *style words* like *cartoon*, *realistic*, or *pixel art*."
   ]
  },
  {
   "cell_type": "markdown",
   "id": "ffc5c7a0",
   "metadata": {},
   "source": [
    "## 🧩 Step 6: Generate Multiple Images\n",
    "Show how loops make repetitive tasks easier."
   ]
  },
  {
   "cell_type": "code",
   "execution_count": null,
   "id": "88397996",
   "metadata": {},
   "outputs": [],
   "source": [
    "prompts = [\n",
    "    'pixel art dragon, bright colors',\n",
    "    'robot mentor with laptop, in a classroom',\n",
    "    'magic sword on pedestal, glowing light'\n",
    "]\n",
    "\n",
    "for i, text in enumerate(prompts):\n",
    "    print(f'🖼️ Generating image {i+1}: {text}')\n",
    "    image = pipe(text).images[0]\n",
    "    image.show()"
   ]
  },
  {
   "cell_type": "markdown",
   "id": "8268fc09",
   "metadata": {},
   "source": [
    "🔍 **Teaching Tip:** Explain that the `for` loop automates repetitive tasks — like giving multiple prompts.\n",
    "\n",
    "⚠️ **Common Pitfall:** Students might forget indentation — remind them Python uses **tabs/spaces** for structure."
   ]
  },
  {
   "cell_type": "markdown",
   "id": "9d3f09ea",
   "metadata": {},
   "source": [
    "## 🎨 Step 7: Student Challenge – Write Your Own Prompts\n",
    "Encourage students to explore and express creativity!"
   ]
  },
  {
   "cell_type": "code",
   "execution_count": null,
   "id": "df65ea87",
   "metadata": {},
   "outputs": [],
   "source": [
    "my_prompts = [\n",
    "    'cartoon astronaut exploring candy planet',\n",
    "    'pixel art robot chef cooking ramen',\n",
    "    'AI superhero flying through neon city'\n",
    "]\n",
    "\n",
    "for i, text in enumerate(my_prompts):\n",
    "    print(f'🎨 Creating: {text}')\n",
    "    image = pipe(text).images[0]\n",
    "    image.save(f'my_image_{i}.png')\n",
    "    image.show()"
   ]
  },
  {
   "cell_type": "markdown",
   "id": "721f7782",
   "metadata": {},
   "source": [
    "💬 **Discussion Prompt:** Ask each student to share their favorite image and explain why they like it.\n",
    "\n",
    "🧩 **Extension Idea:** Encourage them to add *style words* such as 'in watercolor style' or 'cyberpunk theme'."
   ]
  },
  {
   "cell_type": "markdown",
   "id": "585ac7d8",
   "metadata": {},
   "source": [
    "## 💾 Step 8: Save Images to Folder\n",
    "Show students how to store their creations."
   ]
  },
  {
   "cell_type": "code",
   "execution_count": null,
   "id": "1fbf77bd",
   "metadata": {},
   "outputs": [],
   "source": [
    "!mkdir -p my_game_assets\n",
    "for i, text in enumerate(my_prompts):\n",
    "    path = f'my_game_assets/asset_{i}.png'\n",
    "    pipe(text).images[0].save(path)\n",
    "print('✅ All images saved in the folder: my_game_assets/')"
   ]
  },
  {
   "cell_type": "markdown",
   "id": "11fd05c7",
   "metadata": {},
   "source": [
    "🔍 **Teaching Tip:** Connect this to next session — these assets will be used to train a classifier.\n",
    "\n",
    "🎉 **Fun Fact:** This is how small indie game studios generate concept art quickly!"
   ]
  },
  {
   "cell_type": "markdown",
   "id": "02d71d10",
   "metadata": {},
   "source": [
    "## 🧪 Optional Exploration Demos (Instructor Only)\n",
    "Show advanced learners or curious students how they can tweak generation settings."
   ]
  },
  {
   "cell_type": "code",
   "execution_count": null,
   "id": "7000d5f1",
   "metadata": {},
   "outputs": [],
   "source": [
    "# 🎚️ Experiment 1: Guidance Scale – controls creativity vs accuracy\n",
    "prompt = 'a futuristic classroom with robots'\n",
    "for g in [2, 7.5, 12]:\n",
    "    print(f'Guidance scale = {g}')\n",
    "    image = pipe(prompt, guidance_scale=g).images[0]\n",
    "    image.show()"
   ]
  },
  {
   "cell_type": "code",
   "execution_count": null,
   "id": "f634dcc4",
   "metadata": {},
   "outputs": [],
   "source": [
    "# 🧩 Experiment 2: Reproducibility with seed\n",
    "import torch\n",
    "prompt = 'a cute cat in a VR headset'\n",
    "generator = torch.manual_seed(42)\n",
    "image = pipe(prompt, generator=generator).images[0]\n",
    "image.show()"
   ]
  },
  {
   "cell_type": "code",
   "execution_count": null,
   "id": "3a5aae38",
   "metadata": {},
   "outputs": [],
   "source": [
    "# 🎨 Experiment 3: Compare art styles\n",
    "prompt = 'a friendly AI assistant'\n",
    "styles = ['in watercolor style', 'in pixel art style', 'in 3D render style']\n",
    "for style in styles:\n",
    "    img = pipe(prompt + ' ' + style).images[0]\n",
    "    print(style)\n",
    "    img.show()"
   ]
  },
  {
   "cell_type": "markdown",
   "id": "621bca6b",
   "metadata": {},
   "source": [
    "## 🧭 Wrap-Up & Reflection\n",
    "🎉 Great job! You’ve guided students through their first hands-on AI experience.\n",
    "\n",
    "**Key Takeaways:**\n",
    "- AI models learn from massive datasets — they *learn patterns*, not exact copies.\n",
    "- Prompt wording has huge influence on style and composition.\n",
    "- Students should feel empowered to experiment!\n",
    "\n",
    "**Transition:**\n",
    "Next session → *Train a Classifier* using the images generated today.\n",
    "\n",
    "---"
   ]
  },
  {
   "cell_type": "markdown",
   "id": "d0fc5b9d",
   "metadata": {},
   "source": [
    "\n",
    "## 🧩 Extra Challenges – Explore More with AI 🎨\n",
    "\n",
    "> 📝 *This section is optional and meant for independent exploration after the session.*  \n",
    "> Try these exercises if you finish early or want to explore AI art generation further.\n",
    "\n",
    "---\n",
    "\n",
    "### 🧠 Challenge 1: Prompt Engineering (~5–7 min)\n",
    "Experiment with how *small changes* in wording affect the image output.  \n",
    "Example:  \n",
    "```python\n",
    "prompt = \"a cat\"  \n",
    "prompt = \"a cartoon cat\"  \n",
    "prompt = \"a cartoon cat wearing sunglasses\"\n",
    "```\n",
    "**Question:** Which words made the biggest difference? Why do you think so?\n",
    "\n",
    "---\n",
    "\n",
    "### 🧠 Challenge 2: Style Experiments (~7–10 min)\n",
    "Add art style keywords such as `\"pixel art\"`, `\"watercolor\"`, or `\"oil painting\"`.  \n",
    "**Task:** Try the same subject with three different art styles.  \n",
    "**Question:** Which style looked most natural or most creative?\n",
    "\n",
    "---\n",
    "\n",
    "### 🧠 Challenge 3: Randomness and Seeds (~7–10 min)\n",
    "Learn how randomness affects AI output. Use a fixed seed for reproducibility:\n",
    "```python\n",
    "import torch\n",
    "generator = torch.manual_seed(42)\n",
    "image = pipe(\"a futuristic classroom\", generator=generator).images[0]\n",
    "image.show()\n",
    "```\n",
    "**Task:** Change the seed number (e.g., 7, 21, 99).  \n",
    "**Question:** How does the same prompt differ with different seeds?\n",
    "\n",
    "---\n",
    "\n",
    "### 🧠 Challenge 4: AI Ethics and Data (~5–10 min)\n",
    "Discuss or research:  \n",
    "- Where does AI art data come from?  \n",
    "- Why might artists be concerned about copyright or bias?  \n",
    "**Task:** Write 3 sentences summarizing your thoughts.\n",
    "\n",
    "---\n",
    "\n",
    "### 🧠 Challenge 5: Mini Creative Project (~10–15 min)\n",
    "Create your own small project using AI-generated images!  \n",
    "Ideas:  \n",
    "- A short slideshow of your generated images  \n",
    "- A “guess the prompt” mini-game  \n",
    "- A themed art collection (e.g., “AI Pets” or “Future Gadgets”)  \n",
    "**Goal:** Combine creativity and coding skills.\n",
    "\n",
    "---\n",
    "\n",
    "## 🪞 Reflection – What Did You Learn Today?\n",
    "Take a few minutes to reflect on today’s lesson. You can write your answers here or discuss them with a partner.\n",
    "\n",
    "- What surprised you most about how AI creates images?  \n",
    "- Which part did you enjoy most — writing prompts or seeing results?  \n",
    "- How might you use AI image generation in real life or school projects?  \n",
    "- What would you like to learn next about AI?\n"
   ]
  },
  {
   "cell_type": "markdown",
   "id": "8c19d80a",
   "metadata": {},
   "source": [
    "\n",
    "## 📘 Instructor Notes for Challenge Solutions & Discussion\n",
    "\n",
    "> These notes provide deeper context, example answers, and facilitation strategies.  \n",
    "> Use them to guide group reflection or connect to later sessions.\n",
    "\n",
    "---\n",
    "\n",
    "### 🧠 Challenge 1: Prompt Engineering\n",
    "✅ **Expected Answer:**  \n",
    "Adding descriptive words (adjectives, style hints, or nouns) directly changes image composition and details.  \n",
    "E.g., *“robot” → “cute robot” → “cute robot painting with watercolors”* adds both emotion and visual context.\n",
    "\n",
    "💡 **Teaching Tip:**  \n",
    "Encourage students to view prompt writing as *creative communication* with AI — they’re directing an artist.\n",
    "\n",
    "🧠 **Connection to Future Sessions:**  \n",
    "Clear prompts resemble clear *labels* when training classifiers (Session 2).  \n",
    "Better descriptions = better learning signals for AI.\n",
    "\n",
    "---\n",
    "\n",
    "### 🧠 Challenge 2: Style Experiments\n",
    "✅ **Expected Answer:**  \n",
    "AI responds strongly to visual style words. “Pixel art” simplifies shapes; “watercolor” softens details.  \n",
    "Each keyword triggers a distinct *latent space region*.\n",
    "\n",
    "💡 **Teaching Tip:**  \n",
    "Let students guess the style before showing results. This improves engagement and visual literacy.\n",
    "\n",
    "🧠 **Connection to Future Sessions:**  \n",
    "Relates to model fine-tuning — different datasets create unique “style behaviors.”\n",
    "\n",
    "🧩 **Extension Idea:**  \n",
    "Have students blend styles, e.g., “pixel art watercolor painting.”\n",
    "\n",
    "---\n",
    "\n",
    "### 🧠 Challenge 3: Randomness and Seeds\n",
    "✅ **Expected Answer:**  \n",
    "Changing the seed alters random initialization, producing different yet related compositions.  \n",
    "A fixed seed ensures reproducibility — a core principle in data science.\n",
    "\n",
    "💡 **Teaching Tip:**  \n",
    "Use side-by-side comparisons to illustrate *controlled randomness*.  \n",
    "Ask: “What stays the same? What changes?”\n",
    "\n",
    "🧠 **Connection:**  \n",
    "When training AI models, random seeds affect reproducibility and fairness testing.\n",
    "\n",
    "🧩 **Extension:**  \n",
    "Show how multiple seeds can generate dataset diversity for model training.\n",
    "\n",
    "---\n",
    "\n",
    "### 🧠 Challenge 4: AI Ethics and Data\n",
    "✅ **Expected Discussion Points:**  \n",
    "- Models are trained on large web-scraped datasets.  \n",
    "- Some artists argue this uses their work without consent.  \n",
    "- AI can reflect bias from its training data.\n",
    "\n",
    "💡 **Facilitation Tip:**  \n",
    "Guide a respectful discussion. Emphasize *critical thinking*, not judgment.  \n",
    "Encourage empathy for both creators and innovators.\n",
    "\n",
    "🧠 **Connection:**  \n",
    "Ethics discussions prepare students for responsible AI practices in all future sessions.\n",
    "\n",
    "🧩 **Extension Idea:**  \n",
    "Ask: “If you were designing an AI art model, how would you handle artist credit?”\n",
    "\n",
    "---\n",
    "\n",
    "### 🧠 Challenge 5: Mini Creative Project\n",
    "✅ **Expected Outcome:**  \n",
    "Students produce unique image sets or games. They practice iteration, organization, and presentation.\n",
    "\n",
    "💡 **Teaching Tip:**  \n",
    "Encourage storytelling — every project should have a “theme.”  \n",
    "Offer simple awards (most creative, funniest, best use of style).\n",
    "\n",
    "🧠 **Connection:**  \n",
    "Links creativity with project planning — essential for later multi-session capstone projects.\n",
    "\n",
    "🕒 **Estimated Duration:** 15–20 minutes including sharing.\n",
    "\n",
    "🧩 **Extension Idea:**  \n",
    "Invite students to use their AI art as assets in their Session 2 classifier or Session 3 chatbot.\n"
   ]
  }
 ],
 "metadata": {},
 "nbformat": 4,
 "nbformat_minor": 5
}
