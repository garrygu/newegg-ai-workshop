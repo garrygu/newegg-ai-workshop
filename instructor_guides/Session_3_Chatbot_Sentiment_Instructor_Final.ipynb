{
 "cells": [
  {
   "cell_type": "markdown",
   "id": "75bd5330",
   "metadata": {},
   "source": [
    "\n",
    "# 🤖 Session 3: Build a Sentiment-Aware Chatbot — Instructor Edition\n",
    "\n",
    "Welcome, instructor! 🎓  \n",
    "This version contains detailed teaching guidance, fun activity ideas, real-world examples, and solutions to the mini challenges.  \n",
    "It complements the student version and helps you make the session interactive, engaging, and educational.\n"
   ]
  },
  {
   "cell_type": "markdown",
   "id": "49bd9da6",
   "metadata": {},
   "source": [
    "\n",
    "# 🤖 Session 3: Build a Sentiment-Aware Chatbot (Beginner Level)\n",
    "\n",
    "Welcome to **Session 3** of Newegg’s *AI Foundations Workshop*! 🎓  \n",
    "In this session, you’ll build your own **chatbot** that can understand emotions — happy, sad, or neutral — based on what people say!  \n",
    "\n",
    "By the end, you’ll have a simple chatbot that reacts differently depending on the user’s mood.  \n",
    "This skill will be super useful for your **AI Guessing Game** in Session 4! 🎮\n"
   ]
  },
  {
   "cell_type": "markdown",
   "id": "9a3cdade",
   "metadata": {},
   "source": [
    "\n",
    "## 🎯 What You’ll Learn\n",
    "- How AI can detect emotions in text (sentiment analysis)  \n",
    "- How rule-based and machine learning models differ  \n",
    "- How to use pre-trained Transformers for real-world AI tasks  \n",
    "- How to make a chatbot respond based on emotion  \n"
   ]
  },
  {
   "cell_type": "markdown",
   "id": "6940954e",
   "metadata": {},
   "source": [
    "\n",
    "## ⚙️ Step 1: Setup Your Environment\n",
    "We’ll use two approaches today:  \n",
    "1️⃣ A **rule-based method** (no AI training needed).  \n",
    "2️⃣ A **pre-trained Transformer model** using the Hugging Face library.\n",
    "\n",
    "If missing, install Hugging Face Transformers with:\n",
    "```bash\n",
    "pip install transformers\n",
    "```\n"
   ]
  },
  {
   "cell_type": "code",
   "execution_count": null,
   "id": "f912a5c1",
   "metadata": {},
   "outputs": [],
   "source": [
    "\n",
    "from transformers import pipeline\n",
    "\n",
    "print(\"Setup complete! 🚀\")\n"
   ]
  },
  {
   "cell_type": "markdown",
   "id": "6adcc7a0",
   "metadata": {},
   "source": [
    "\n",
    "## 💬 Step 2: Rule-Based Sentiment Analyzer\n",
    "Let’s start with a simple, keyword-based method.  \n",
    "The chatbot will check for certain words and decide if the message is positive, negative, or neutral.\n"
   ]
  },
  {
   "cell_type": "code",
   "execution_count": null,
   "id": "a508ad50",
   "metadata": {},
   "outputs": [],
   "source": [
    "\n",
    "def rule_based_sentiment(text):\n",
    "    text = text.lower()\n",
    "    positive_words = ['love', 'great', 'awesome', 'fantastic', 'good', 'amazing', 'happy']\n",
    "    negative_words = ['hate', 'bad', 'terrible', 'awful', 'sad', 'angry']\n",
    "    \n",
    "    if any(word in text for word in positive_words):\n",
    "        return \"positive\"\n",
    "    elif any(word in text for word in negative_words):\n",
    "        return \"negative\"\n",
    "    else:\n",
    "        return \"neutral\"\n",
    "\n",
    "# Test the function\n",
    "examples = [\"I love AI!\", \"This is terrible.\", \"I’m okay today.\"]\n",
    "for e in examples:\n",
    "    print(f\"{e} -> {rule_based_sentiment(e)}\")\n"
   ]
  },
  {
   "cell_type": "markdown",
   "id": "675718ce",
   "metadata": {},
   "source": [
    "\n",
    "## 🚀 Step 3: Pre-Trained Transformer Sentiment Model\n",
    "Now let’s use a **real AI model** from Hugging Face that has been trained on thousands of text samples.  \n",
    "This model can detect emotions far beyond simple keywords!\n"
   ]
  },
  {
   "cell_type": "code",
   "execution_count": null,
   "id": "145f92c7",
   "metadata": {},
   "outputs": [],
   "source": [
    "\n",
    "# Load a pre-trained sentiment analysis model\n",
    "from transformers import pipeline\n",
    "sentiment_model = pipeline(\"sentiment-analysis\")\n",
    "\n",
    "# Try it out!\n",
    "texts = [\"I love this AI workshop!\", \"This is the worst class ever.\", \"It’s okay, not great.\"]\n",
    "for t in texts:\n",
    "    print(f\"{t} -> {sentiment_model(t)}\")\n"
   ]
  },
  {
   "cell_type": "markdown",
   "id": "429a36d6",
   "metadata": {},
   "source": [
    "\n",
    "## 🤖 Step 4: Create a Sentiment-Aware Chatbot\n",
    "Now let’s make a chatbot that responds differently based on how the user feels.\n"
   ]
  },
  {
   "cell_type": "code",
   "execution_count": null,
   "id": "ac8e422a",
   "metadata": {},
   "outputs": [],
   "source": [
    "\n",
    "def chatbot_response(user_input):\n",
    "    result = sentiment_model(user_input)[0]\n",
    "    label = result['label']\n",
    "    \n",
    "    if label == 'POSITIVE':\n",
    "        return \"😊 I'm glad to hear that! What made you feel this way?\"\n",
    "    elif label == 'NEGATIVE':\n",
    "        return \"😢 I'm sorry to hear that. Want to talk about it?\"\n",
    "    else:\n",
    "        return \"😐 I see. Tell me more!\"\n",
    "\n",
    "# Try it\n",
    "print(chatbot_response(\"I’m having a great day!\"))\n",
    "print(chatbot_response(\"I hate homework.\"))\n"
   ]
  },
  {
   "cell_type": "markdown",
   "id": "4d9c09eb",
   "metadata": {},
   "source": [
    "\n",
    "## 🧠 Step 5: Combine Both Approaches\n",
    "We can even use the rule-based system as a backup when the Transformer model isn’t confident.\n"
   ]
  },
  {
   "cell_type": "code",
   "execution_count": null,
   "id": "fe4c5164",
   "metadata": {},
   "outputs": [],
   "source": [
    "\n",
    "def hybrid_sentiment_chatbot(user_input):\n",
    "    ai_result = sentiment_model(user_input)[0]\n",
    "    if ai_result['score'] < 0.8:\n",
    "        sentiment = rule_based_sentiment(user_input)\n",
    "    else:\n",
    "        sentiment = ai_result['label'].lower()\n",
    "\n",
    "    if 'pos' in sentiment:\n",
    "        return \"🌞 You sound happy today! Keep it up!\"\n",
    "    elif 'neg' in sentiment:\n",
    "        return \"🌧️ Sounds like something’s bothering you. Hope it gets better.\"\n",
    "    else:\n",
    "        return \"🌤️ Hmm, I can’t tell — maybe you’re feeling okay?\"\n",
    "\n",
    "# Test it\n",
    "print(hybrid_sentiment_chatbot(\"This workshop is awesome!\"))\n",
    "print(hybrid_sentiment_chatbot(\"I feel bad today.\"))\n",
    "print(hybrid_sentiment_chatbot(\"It’s just another normal day.\"))\n"
   ]
  },
  {
   "cell_type": "markdown",
   "id": "312f5773",
   "metadata": {},
   "source": [
    "\n",
    "## 📊 Step 6: Visualize Sentiment Trends (Optional)\n",
    "You can extend this by collecting user messages over time and visualizing sentiment changes — just like tracking a mood diary!\n"
   ]
  },
  {
   "cell_type": "markdown",
   "id": "a5d9595a",
   "metadata": {},
   "source": [
    "\n",
    "## 🧩 Step 7: Level Up! – Mini Challenges\n",
    "\n",
    "### 1️⃣ 💡 Customize Responses\n",
    "Add more creative or funny chatbot replies for different moods.\n",
    "\n",
    "### 2️⃣ 🔄 Try Your Own Sentences\n",
    "Type your own messages and see how your chatbot reacts.\n",
    "\n",
    "### 3️⃣ 🧠 Add a Neutral Tone Detector\n",
    "Make your chatbot respond calmly to neutral statements.\n",
    "\n",
    "### 4️⃣ 🎨 Bonus Challenge\n",
    "Add emojis or ASCII art to your chatbot responses for more personality! 😄\n"
   ]
  },
  {
   "cell_type": "markdown",
   "id": "255e024e",
   "metadata": {},
   "source": [
    "\n",
    "## 🎉 Step 8: Wrap-Up & What’s Next\n",
    "You just built a **sentiment-aware chatbot**! 🏆  \n",
    "In the next session, you’ll combine your **image AI** and **chatbot** to make an exciting **AI Guessing Game** 🎮  \n",
    "where your chatbot reacts to what it “sees” and “feels”!  \n"
   ]
  },
  {
   "cell_type": "markdown",
   "id": "04cf5019",
   "metadata": {},
   "source": [
    "\n",
    "---\n",
    "# 💡 Instructor Guidance & Enrichment Notes\n",
    "\n",
    "### 🧭 Session Overview\n",
    "Students will explore **sentiment analysis** using both rule-based and machine-learning approaches.  \n",
    "Encourage them to think about how AI understands *emotions* in text — it’s the bridge between human communication and machine understanding.\n",
    "\n",
    "---\n",
    "## 🧩 Section-by-Section Instructor Notes\n",
    "\n",
    "### ⚙️ Step 1 – Setup\n",
    "💡 **Tip:** Preinstall the `transformers` library on all workshop machines to save time.  \n",
    "⚠️ **Common Issue:** Some students may face model download delays; show them how to use CPU mode safely.  \n",
    "🌍 **Discussion Starter:** “Where have you seen AI detect emotions before?” (e.g., social media sentiment tracking, YouTube comments analysis).\n",
    "\n",
    "---\n",
    "### 💬 Step 2 – Rule-Based Sentiment Analyzer\n",
    "🎯 **Teaching Focus:** Explain the logic behind keyword matching. Students should see how “if–else” logic can approximate emotion detection.  \n",
    "💡 **Tip:** Have students suggest extra words to expand the list (e.g., “fantastic,” “disappointing”).  \n",
    "🧠 **Analogy:** Rule-based systems are like early chatbots — predictable, but limited.\n",
    "\n",
    "---\n",
    "### 🚀 Step 3 – Transformer Model\n",
    "🌍 **Real-World Connection:** Show that tools like **Twitter sentiment dashboards** and **customer support AIs** use pre-trained models like this.  \n",
    "⚙️ **Tip:** Demonstrate the difference in accuracy between the Transformer and rule-based methods.  \n",
    "🎉 **Fun Idea:** Create a “sentiment showdown” — students vote whether the AI’s response was correct!\n",
    "\n",
    "---\n",
    "### 🤖 Step 4 – Chatbot Responses\n",
    "💡 **Tip:** Encourage creativity! Let students customize how the chatbot replies to happy or sad messages.  \n",
    "🌍 **Example:** Explain how e-commerce chatbots detect frustration or joy in customer messages.  \n",
    "⚠️ **Note:** Students may see different labels (“POSITIVE”/“NEGATIVE”) depending on the model; explain label standardization.\n",
    "\n",
    "---\n",
    "### 🧠 Step 5 – Hybrid Model\n",
    "🧩 **Concept:** Combining rule-based logic with machine learning mimics real production systems — fallback methods handle uncertain predictions.  \n",
    "💡 **Extension:** Explain confidence scores (`result['score']`) and why confidence thresholds matter.  \n",
    "🎯 **Discussion:** “When should AI rely on rules, and when should it trust learning?”\n",
    "\n",
    "---\n",
    "### 📊 Step 6 – Visualization (Optional)\n",
    "🧠 **Idea:** Have advanced students collect multiple chat entries and visualize mood over time (line chart: positive vs. negative).  \n",
    "🌍 **Connection:** Relate to *mental wellness tracking apps* and *social sentiment analysis*.  \n",
    "💡 **Tip:** If time is short, skip this section and summarize conceptually.\n",
    "\n",
    "---\n",
    "## 🧩 Challenge Solutions & Discussion\n",
    "\n",
    "### 1️⃣ 💡 Customize Responses\n",
    "✅ **Solution:** Students can modify chatbot messages or add conditions.  \n",
    "💬 Example: If sentiment is negative, reply “Here’s a funny cat fact to cheer you up!”  \n",
    "*Teaching Focus:* Encourage empathy — AI should make users feel better, not worse.\n",
    "\n",
    "### 2️⃣ 🔄 Try Your Own Sentences\n",
    "✅ **Solution:** Let students test creative or tricky phrases (“I can’t say it’s bad”) to see how nuanced models are.  \n",
    "💬 Discuss edge cases — irony or sarcasm can confuse models.\n",
    "\n",
    "### 3️⃣ 🧠 Add a Neutral Tone Detector\n",
    "✅ **Solution:** Add `elif 'neutral' in sentiment:` and reply accordingly.  \n",
    "💬 Highlight how neutrality detection is key for support bots (deciding when to escalate to a human).\n",
    "\n",
    "### 4️⃣ 🎨 Bonus Challenge\n",
    "✅ **Solution:** Use emojis or ASCII to make outputs expressive.  \n",
    "💬 Example: Positive → “🎉 That’s awesome!”; Negative → “😔 Sorry to hear that.”  \n",
    "🌍 **Extension:** Discuss chatbot personality — friendly vs. professional tone.\n",
    "\n",
    "---\n",
    "## 🎓 Wrap-Up\n",
    "🎯 Reinforce key takeaways:\n",
    "- AI can “feel” emotion statistically, not emotionally.  \n",
    "- Real chatbots blend rule logic + pre-trained models.  \n",
    "- The same sentiment pipeline can be used in the **final AI Guessing Game** to make emotional reactions!  \n",
    "\n",
    "🎉 **Fun Closing Idea:** Ask students to “teach” the AI by adding 5 new words to its rule-based list and see how it changes behavior.  \n"
   ]
  }
 ],
 "metadata": {},
 "nbformat": 4,
 "nbformat_minor": 5
}
