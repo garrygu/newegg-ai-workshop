{
 "cells": [
  {
   "cell_type": "markdown",
   "id": "49bd9da6",
   "metadata": {},
   "source": [
    "\n",
    "# 🤖 Session 3: Build a Sentiment-Aware Chatbot (Beginner Level)\n",
    "\n",
    "Welcome to **Session 3** of Newegg’s *AI Foundations Workshop*! 🎓  \n",
    "In this session, you’ll build your own **chatbot** that can understand emotions — happy, sad, or neutral — based on what people say!  \n",
    "\n",
    "By the end, you’ll have a simple chatbot that reacts differently depending on the user’s mood.  \n",
    "This skill will be super useful for your **AI Guessing Game** in Session 4! 🎮\n"
   ]
  },
  {
   "cell_type": "markdown",
   "id": "9a3cdade",
   "metadata": {},
   "source": [
    "\n",
    "## 🎯 What You’ll Learn\n",
    "- How AI can detect emotions in text (sentiment analysis)  \n",
    "- How rule-based and machine learning models differ  \n",
    "- How to use pre-trained Transformers for real-world AI tasks  \n",
    "- How to make a chatbot respond based on emotion  \n"
   ]
  },
  {
   "cell_type": "markdown",
   "id": "6940954e",
   "metadata": {},
   "source": [
    "\n",
    "## ⚙️ Step 1: Setup Your Environment\n",
    "We’ll use two approaches today:  \n",
    "1️⃣ A **rule-based method** (no AI training needed).  \n",
    "2️⃣ A **pre-trained Transformer model** using the Hugging Face library.\n",
    "\n",
    "If missing, install Hugging Face Transformers with:\n",
    "```bash\n",
    "pip install transformers\n",
    "```\n"
   ]
  },
  {
   "cell_type": "code",
   "execution_count": null,
   "id": "f912a5c1",
   "metadata": {},
   "outputs": [],
   "source": [
    "\n",
    "from transformers import pipeline\n",
    "\n",
    "print(\"Setup complete! 🚀\")\n"
   ]
  },
  {
   "cell_type": "markdown",
   "id": "6adcc7a0",
   "metadata": {},
   "source": [
    "\n",
    "## 💬 Step 2: Rule-Based Sentiment Analyzer\n",
    "Let’s start with a simple, keyword-based method.  \n",
    "The chatbot will check for certain words and decide if the message is positive, negative, or neutral.\n"
   ]
  },
  {
   "cell_type": "code",
   "execution_count": null,
   "id": "a508ad50",
   "metadata": {},
   "outputs": [],
   "source": [
    "\n",
    "def rule_based_sentiment(text):\n",
    "    text = text.lower()\n",
    "    positive_words = ['love', 'great', 'awesome', 'fantastic', 'good', 'amazing', 'happy']\n",
    "    negative_words = ['hate', 'bad', 'terrible', 'awful', 'sad', 'angry']\n",
    "    \n",
    "    if any(word in text for word in positive_words):\n",
    "        return \"positive\"\n",
    "    elif any(word in text for word in negative_words):\n",
    "        return \"negative\"\n",
    "    else:\n",
    "        return \"neutral\"\n",
    "\n",
    "# Test the function\n",
    "examples = [\"I love AI!\", \"This is terrible.\", \"I’m okay today.\"]\n",
    "for e in examples:\n",
    "    print(f\"{e} -> {rule_based_sentiment(e)}\")\n"
   ]
  },
  {
   "cell_type": "markdown",
   "id": "675718ce",
   "metadata": {},
   "source": [
    "\n",
    "## 🚀 Step 3: Pre-Trained Transformer Sentiment Model\n",
    "Now let’s use a **real AI model** from Hugging Face that has been trained on thousands of text samples.  \n",
    "This model can detect emotions far beyond simple keywords!\n"
   ]
  },
  {
   "cell_type": "code",
   "execution_count": null,
   "id": "145f92c7",
   "metadata": {},
   "outputs": [],
   "source": [
    "\n",
    "# Load a pre-trained sentiment analysis model\n",
    "from transformers import pipeline\n",
    "sentiment_model = pipeline(\"sentiment-analysis\")\n",
    "\n",
    "# Try it out!\n",
    "texts = [\"I love this AI workshop!\", \"This is the worst class ever.\", \"It’s okay, not great.\"]\n",
    "for t in texts:\n",
    "    print(f\"{t} -> {sentiment_model(t)}\")\n"
   ]
  },
  {
   "cell_type": "markdown",
   "id": "429a36d6",
   "metadata": {},
   "source": [
    "\n",
    "## 🤖 Step 4: Create a Sentiment-Aware Chatbot\n",
    "Now let’s make a chatbot that responds differently based on how the user feels.\n"
   ]
  },
  {
   "cell_type": "code",
   "execution_count": null,
   "id": "ac8e422a",
   "metadata": {},
   "outputs": [],
   "source": [
    "\n",
    "def chatbot_response(user_input):\n",
    "    result = sentiment_model(user_input)[0]\n",
    "    label = result['label']\n",
    "    \n",
    "    if label == 'POSITIVE':\n",
    "        return \"😊 I'm glad to hear that! What made you feel this way?\"\n",
    "    elif label == 'NEGATIVE':\n",
    "        return \"😢 I'm sorry to hear that. Want to talk about it?\"\n",
    "    else:\n",
    "        return \"😐 I see. Tell me more!\"\n",
    "\n",
    "# Try it\n",
    "print(chatbot_response(\"I’m having a great day!\"))\n",
    "print(chatbot_response(\"I hate homework.\"))\n"
   ]
  },
  {
   "cell_type": "markdown",
   "id": "4d9c09eb",
   "metadata": {},
   "source": [
    "\n",
    "## 🧠 Step 5: Combine Both Approaches\n",
    "We can even use the rule-based system as a backup when the Transformer model isn’t confident.\n"
   ]
  },
  {
   "cell_type": "code",
   "execution_count": null,
   "id": "fe4c5164",
   "metadata": {},
   "outputs": [],
   "source": [
    "\n",
    "def hybrid_sentiment_chatbot(user_input):\n",
    "    ai_result = sentiment_model(user_input)[0]\n",
    "    if ai_result['score'] < 0.8:\n",
    "        sentiment = rule_based_sentiment(user_input)\n",
    "    else:\n",
    "        sentiment = ai_result['label'].lower()\n",
    "\n",
    "    if 'pos' in sentiment:\n",
    "        return \"🌞 You sound happy today! Keep it up!\"\n",
    "    elif 'neg' in sentiment:\n",
    "        return \"🌧️ Sounds like something’s bothering you. Hope it gets better.\"\n",
    "    else:\n",
    "        return \"🌤️ Hmm, I can’t tell — maybe you’re feeling okay?\"\n",
    "\n",
    "# Test it\n",
    "print(hybrid_sentiment_chatbot(\"This workshop is awesome!\"))\n",
    "print(hybrid_sentiment_chatbot(\"I feel bad today.\"))\n",
    "print(hybrid_sentiment_chatbot(\"It’s just another normal day.\"))\n"
   ]
  },
  {
   "cell_type": "markdown",
   "id": "312f5773",
   "metadata": {},
   "source": [
    "\n",
    "## 📊 Step 6: Visualize Sentiment Trends (Optional)\n",
    "You can extend this by collecting user messages over time and visualizing sentiment changes — just like tracking a mood diary!\n"
   ]
  },
  {
   "cell_type": "markdown",
   "id": "a5d9595a",
   "metadata": {},
   "source": [
    "\n",
    "## 🧩 Step 7: Level Up! – Mini Challenges\n",
    "\n",
    "### 1️⃣ 💡 Customize Responses\n",
    "Add more creative or funny chatbot replies for different moods.\n",
    "\n",
    "### 2️⃣ 🔄 Try Your Own Sentences\n",
    "Type your own messages and see how your chatbot reacts.\n",
    "\n",
    "### 3️⃣ 🧠 Add a Neutral Tone Detector\n",
    "Make your chatbot respond calmly to neutral statements.\n",
    "\n",
    "### 4️⃣ 🎨 Bonus Challenge\n",
    "Add emojis or ASCII art to your chatbot responses for more personality! 😄\n"
   ]
  },
  {
   "cell_type": "markdown",
   "id": "255e024e",
   "metadata": {},
   "source": [
    "\n",
    "## 🎉 Step 8: Wrap-Up & What’s Next\n",
    "You just built a **sentiment-aware chatbot**! 🏆  \n",
    "In the next session, you’ll combine your **image AI** and **chatbot** to make an exciting **AI Guessing Game** 🎮  \n",
    "where your chatbot reacts to what it “sees” and “feels”!  \n"
   ]
  }
 ],
 "metadata": {},
 "nbformat": 4,
 "nbformat_minor": 5
}