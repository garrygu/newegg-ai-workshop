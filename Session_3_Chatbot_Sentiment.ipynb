{
 "cells": [
  {
   "cell_type": "markdown",
   "id": "f94d68d2",
   "metadata": {},
   "source": [
    "# Big Project – Session 3: Chatbot & Sentiment\n",
    "Create a friendly Game Master persona and test sentiment reactions. Saves outputs into `game_project/dialogue/`."
   ]
  },
  {
   "cell_type": "code",
   "execution_count": null,
   "id": "ba88fdf9",
   "metadata": {},
   "outputs": [],
   "source": [
    "# Setup\n",
    "!pip -q install transformers accelerate torch --extra-index-url https://download.pytorch.org/whl/cu121\n",
    "import os, json, textwrap\n",
    "DIALOGUE_DIR = \"/mnt/data/nicegpu_ai_workshop/game_project/dialogue\"\n",
    "os.makedirs(DIALOGUE_DIR, exist_ok=True)\n",
    "print('Saving prompts to:', DIALOGUE_DIR)"
   ]
  },
  {
   "cell_type": "code",
   "execution_count": null,
   "id": "046ebf9b",
   "metadata": {},
   "outputs": [],
   "source": [
    "from transformers import pipeline\n",
    "device = 0 if __import__('torch').cuda.is_available() else -1\n",
    "sentiment = pipeline('sentiment-analysis', device=device)\n",
    "gen = pipeline('text-generation', model='gpt2', device=device)"
   ]
  },
  {
   "cell_type": "markdown",
   "id": "2d645ea7",
   "metadata": {},
   "source": [
    "### Define your Game Master persona"
   ]
  },
  {
   "cell_type": "code",
   "execution_count": null,
   "id": "6e284573",
   "metadata": {},
   "outputs": [],
   "source": [
    "persona = \"You are a friendly Game Master. Encourage players, give short hints, and keep answers under 40 words. Be school-appropriate.\"\n",
    "with open(f\"{DIALOGUE_DIR}/persona.txt\",\"w\") as f: f.write(persona)\n",
    "print('Saved persona to dialogue/persona.txt')"
   ]
  },
  {
   "cell_type": "markdown",
   "id": "ce364c53",
   "metadata": {},
   "source": [
    "### Test the chatbot and sentiment"
   ]
  },
  {
   "cell_type": "code",
   "execution_count": null,
   "id": "45ef5c2a",
   "metadata": {},
   "outputs": [],
   "source": [
    "def game_master_reply(persona, context, max_new_tokens=60):\n",
    "    prompt = f\"\"\"{persona}\n",
    "Context: {context}\n",
    "Reply:\"\"\"\n",
    "    out = gen(prompt, max_new_tokens=max_new_tokens, do_sample=True, temperature=0.9)[0]['generated_text']\n",
    "    return out\n",
    "\n",
    "samples = [\n",
    "    \"Player guessed cat and got it right!\",\n",
    "    \"Player guessed car but the truth was dog.\",\n",
    "]\n",
    "for s in samples:\n",
    "    fb = sentiment(f\"I guessed: {s}\")[0]\n",
    "    reply = game_master_reply(persona, f\"{s} Sentiment={fb['label']}\")\n",
    "    print(\"\\nContext:\", s, \"| Sentiment:\", fb)\n",
    "    print(\"GM:\", reply)\n",
    "\n",
    "# Save some canned lines to reuse in the game loop if desired\n",
    "canned = {\n",
    "    \"correct\": [\"Nice! You nailed it!\", \"Spot on!\"],\n",
    "    \"incorrect\": [\"Close! Try again.\", \"Not quite—look carefully at the details.\"],\n",
    "}\n",
    "import json, os\n",
    "with open(f\"{DIALOGUE_DIR}/canned_lines.json\",\"w\") as f:\n",
    "    json.dump(canned, f, indent=2)\n",
    "print(\"Saved canned_lines.json\")"
   ]
  }
 ],
 "metadata": {},
 "nbformat": 4,
 "nbformat_minor": 5
}
