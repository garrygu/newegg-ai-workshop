{
 "cells": [
  {
   "cell_type": "markdown",
   "id": "f94d68d2",
   "metadata": {},
   "source": [
    "# Big Project – Session 3: Chatbot & Sentiment\n",
    "Create a friendly Game Master persona and test sentiment reactions. Saves outputs into `game_project/dialogue/`."
   ]
  },
  {
   "cell_type": "code",
   "execution_count": 1,
   "id": "ba88fdf9",
   "metadata": {},
   "outputs": [
    {
     "name": "stdout",
     "output_type": "stream",
     "text": [
      "Saving prompts to: /mnt/data/nicegpu_ai_workshop/game_project/dialogue\n"
     ]
    }
   ],
   "source": [
    "# Setup\n",
    "!pip -q install transformers accelerate torch --extra-index-url https://download.pytorch.org/whl/cu121\n",
    "import os, json, textwrap\n",
    "DIALOGUE_DIR = \"/mnt/data/nicegpu_ai_workshop/game_project/dialogue\"\n",
    "os.makedirs(DIALOGUE_DIR, exist_ok=True)\n",
    "print('Saving prompts to:', DIALOGUE_DIR)"
   ]
  },
  {
   "cell_type": "code",
   "execution_count": 2,
   "id": "046ebf9b",
   "metadata": {},
   "outputs": [
    {
     "name": "stderr",
     "output_type": "stream",
     "text": [
      "No model was supplied, defaulted to distilbert/distilbert-base-uncased-finetuned-sst-2-english and revision 714eb0f (https://huggingface.co/distilbert/distilbert-base-uncased-finetuned-sst-2-english).\n",
      "Using a pipeline without specifying a model name and revision in production is not recommended.\n",
      "Device set to use cuda:0\n",
      "Device set to use cuda:0\n"
     ]
    }
   ],
   "source": [
    "from transformers import pipeline\n",
    "device = 0 if __import__('torch').cuda.is_available() else -1\n",
    "sentiment = pipeline('sentiment-analysis', device=device)\n",
    "gen = pipeline('text-generation', model='gpt2', device=device)"
   ]
  },
  {
   "cell_type": "markdown",
   "id": "2d645ea7",
   "metadata": {},
   "source": [
    "### Define your Game Master persona"
   ]
  },
  {
   "cell_type": "code",
   "execution_count": 3,
   "id": "6e284573",
   "metadata": {},
   "outputs": [
    {
     "name": "stdout",
     "output_type": "stream",
     "text": [
      "Saved persona to dialogue/persona.txt\n"
     ]
    }
   ],
   "source": [
    "persona = \"You are a friendly Game Master. Encourage players, give short hints, and keep answers under 40 words. Be school-appropriate.\"\n",
    "with open(f\"{DIALOGUE_DIR}/persona.txt\",\"w\") as f: f.write(persona)\n",
    "print('Saved persona to dialogue/persona.txt')"
   ]
  },
  {
   "cell_type": "markdown",
   "id": "ce364c53",
   "metadata": {},
   "source": [
    "### Test the chatbot and sentiment"
   ]
  },
  {
   "cell_type": "code",
   "execution_count": 4,
   "id": "45ef5c2a",
   "metadata": {},
   "outputs": [
    {
     "name": "stderr",
     "output_type": "stream",
     "text": [
      "Setting `pad_token_id` to `eos_token_id`:50256 for open-end generation.\n",
      "Setting `pad_token_id` to `eos_token_id`:50256 for open-end generation.\n"
     ]
    },
    {
     "name": "stdout",
     "output_type": "stream",
     "text": [
      "\n",
      "Context: Player guessed cat and got it right! | Sentiment: {'label': 'POSITIVE', 'score': 0.9994888305664062}\n",
      "GM: You are a friendly Game Master. Encourage players, give short hints, and keep answers under 40 words. Be school-appropriate.\n",
      "Context: Player guessed cat and got it right! Sentiment=POSITIVE\n",
      "Reply:\n",
      "A good start for you and your guild is to encourage people to ask, get in touch, and even post your questions to the thread.\n",
      "Players are encouraged to ask questions on the boards or on the forums as an example of how to get them to engage. If you are being generous,\n",
      "\n",
      "Context: Player guessed car but the truth was dog. | Sentiment: {'label': 'NEGATIVE', 'score': 0.9907868504524231}\n",
      "GM: You are a friendly Game Master. Encourage players, give short hints, and keep answers under 40 words. Be school-appropriate.\n",
      "Context: Player guessed car but the truth was dog. Sentiment=NEGATIVE\n",
      "Reply: You have the right to suggest a particular set of rules and/or objectives. Make it your goal to meet or exceed your original goal.\n",
      "The goal is to accomplish your intended goal, not the enemy of your goal.\n",
      "Saved canned_lines.json\n"
     ]
    }
   ],
   "source": [
    "def game_master_reply(persona, context, max_new_tokens=60):\n",
    "    prompt = f\"\"\"{persona}\n",
    "Context: {context}\n",
    "Reply:\"\"\"\n",
    "    out = gen(prompt, max_new_tokens=max_new_tokens, do_sample=True, temperature=0.9)[0]['generated_text']\n",
    "    return out\n",
    "\n",
    "samples = [\n",
    "    \"Player guessed cat and got it right!\",\n",
    "    \"Player guessed car but the truth was dog.\",\n",
    "]\n",
    "for s in samples:\n",
    "    fb = sentiment(f\"I guessed: {s}\")[0]\n",
    "    reply = game_master_reply(persona, f\"{s} Sentiment={fb['label']}\")\n",
    "    print(\"\\nContext:\", s, \"| Sentiment:\", fb)\n",
    "    print(\"GM:\", reply)\n",
    "\n",
    "# Save some canned lines to reuse in the game loop if desired\n",
    "canned = {\n",
    "    \"correct\": [\"Nice! You nailed it!\", \"Spot on!\"],\n",
    "    \"incorrect\": [\"Close! Try again.\", \"Not quite—look carefully at the details.\"],\n",
    "}\n",
    "import json, os\n",
    "with open(f\"{DIALOGUE_DIR}/canned_lines.json\",\"w\") as f:\n",
    "    json.dump(canned, f, indent=2)\n",
    "print(\"Saved canned_lines.json\")"
   ]
  },
  {
   "cell_type": "code",
   "execution_count": null,
   "id": "2187da86-961b-4485-ac5a-94ec60f2fcaf",
   "metadata": {},
   "outputs": [],
   "source": []
  }
 ],
 "metadata": {
  "kernelspec": {
   "display_name": "Python 3.12 (torch312)",
   "language": "python",
   "name": "torch312"
  },
  "language_info": {
   "codemirror_mode": {
    "name": "ipython",
    "version": 3
   },
   "file_extension": ".py",
   "mimetype": "text/x-python",
   "name": "python",
   "nbconvert_exporter": "python",
   "pygments_lexer": "ipython3",
   "version": "3.12.11"
  }
 },
 "nbformat": 4,
 "nbformat_minor": 5
}
